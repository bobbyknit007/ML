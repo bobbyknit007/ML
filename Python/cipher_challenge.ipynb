{
 "cells": [
  {
   "cell_type": "code",
   "execution_count": 10,
   "id": "beb734a6-c956-4169-9a41-bbad9b524c37",
   "metadata": {},
   "outputs": [],
   "source": [
    "letter_to_number={\n",
    "   'a':1,    'b':2,    'c':3,    'd':4,    'e':5,    'f':6,    'g':7,    'h':8,    'i':9,    'j':10,    'k':11,    'l':12,    'm':13,    'n':14,    'o':15,    'p':16,    'q':17,    'r':18,    's':19,    't':20,    'u':21,    'v':22,    'w':23,    'x':24,    'y':25,    'z':26\n",
    "}\n",
    "\n",
    "alphabet={'a',    'b',    'c',    'd',    'e',    'f',    'g',    'h',    'i',    'j',    'k',    'l',    'm',    'n',    'o',    'p',    'q',    'r',    's',    't',    'u',    'v',    'w',    'x',    'y',    'z'}\n"
   ]
  },
  {
   "cell_type": "code",
   "execution_count": 69,
   "id": "67a5ab82-fb2a-4c74-8720-5b005fd1a776",
   "metadata": {},
   "outputs": [],
   "source": [
    "encoded_messages= ['19-5-1', '8-1-23-11-19','19-5-3-18-5-20']"
   ]
  },
  {
   "cell_type": "code",
   "execution_count": 66,
   "id": "9fb753ae-8d9a-4b88-85ef-08565e6f5d8f",
   "metadata": {},
   "outputs": [],
   "source": [
    "def decodeMessage(encoded_messages):\n",
    "    statement=[]\n",
    "    for message in encoded_messages:\n",
    "        word=''\n",
    "        for num in message.split('-'):\n",
    "            # find letter corresponding to number\n",
    "            character=findCharacter(int(num))\n",
    "            word=word+character\n",
    "        statement.append(word)\n",
    "    return statement"
   ]
  },
  {
   "cell_type": "code",
   "execution_count": 67,
   "id": "f2662172-69c5-48cc-8985-37417f28568b",
   "metadata": {},
   "outputs": [],
   "source": [
    "def findCharacter(input):\n",
    "    for character, num  in letter_to_number.items():\n",
    "        if(num==input):\n",
    "            return character\n",
    "    return '--'"
   ]
  },
  {
   "cell_type": "code",
   "execution_count": 68,
   "id": "729c3001-184d-4225-84b8-b59ce320d867",
   "metadata": {},
   "outputs": [],
   "source": [
    "def isSecretMessage(message):\n",
    "    for word in message:\n",
    "        #print(word)\n",
    "        if(word.lower() in ['secret','message']):\n",
    "            return True\n",
    "    return False"
   ]
  },
  {
   "cell_type": "code",
   "execution_count": 70,
   "id": "28b40651-e892-4431-bfd6-9d6958d807c3",
   "metadata": {},
   "outputs": [
    {
     "data": {
      "text/plain": [
       "['sea', 'hawks', 'secret']"
      ]
     },
     "execution_count": 70,
     "metadata": {},
     "output_type": "execute_result"
    }
   ],
   "source": [
    "decodeMessage(encoded_messages)"
   ]
  },
  {
   "cell_type": "code",
   "execution_count": 71,
   "id": "2e7d6a55-68ea-42f4-afe1-70f5082eda5b",
   "metadata": {},
   "outputs": [
    {
     "name": "stdout",
     "output_type": "stream",
     "text": [
      "True\n"
     ]
    }
   ],
   "source": [
    "print(isSecretMessage(decodeMessage(encoded_messages)))"
   ]
  },
  {
   "cell_type": "code",
   "execution_count": null,
   "id": "e4e7ed5b-b375-483f-8ffc-439c736412c0",
   "metadata": {},
   "outputs": [],
   "source": []
  }
 ],
 "metadata": {
  "kernelspec": {
   "display_name": "Python 3 (ipykernel)",
   "language": "python",
   "name": "python3"
  },
  "language_info": {
   "codemirror_mode": {
    "name": "ipython",
    "version": 3
   },
   "file_extension": ".py",
   "mimetype": "text/x-python",
   "name": "python",
   "nbconvert_exporter": "python",
   "pygments_lexer": "ipython3",
   "version": "3.11.7"
  }
 },
 "nbformat": 4,
 "nbformat_minor": 5
}
