{
 "cells": [
  {
   "cell_type": "code",
   "execution_count": 4,
   "id": "f6c2c62e-1439-43ef-95fd-f22a503aafdb",
   "metadata": {},
   "outputs": [
    {
     "name": "stdin",
     "output_type": "stream",
     "text": [
      "Enter your num: 7\n"
     ]
    },
    {
     "name": "stdout",
     "output_type": "stream",
     "text": [
      "Its odd  7\n"
     ]
    }
   ],
   "source": [
    "#Even Odd\n",
    "num = int(input(\"Enter your num:\"))\n",
    "if ( num%2==0):\n",
    "    print(\"Its even \", num)\n",
    "else:\n",
    "     print(\"Its odd \", num)"
   ]
  },
  {
   "cell_type": "code",
   "execution_count": 14,
   "id": "61766015-81fd-420d-9675-6314b152cb7e",
   "metadata": {},
   "outputs": [
    {
     "name": "stdin",
     "output_type": "stream",
     "text": [
      "Enter number 10\n"
     ]
    },
    {
     "name": "stdout",
     "output_type": "stream",
     "text": [
      "10 is positive\n"
     ]
    }
   ],
   "source": [
    "# check num is positive, negative or zero\n",
    "num = int(input(\"Enter number\"))\n",
    "if(num ==0):\n",
    "    print(num , \" is zero\")\n",
    "elif num <0:\n",
    "    print(num, \"is negative\")\n",
    "else:\n",
    "   print(num, \"is positive\")"
   ]
  },
  {
   "cell_type": "code",
   "execution_count": 23,
   "id": "ccee760d-cc03-4331-9ed0-e70a8d6378de",
   "metadata": {},
   "outputs": [
    {
     "name": "stdin",
     "output_type": "stream",
     "text": [
      "Enter year 2024\n"
     ]
    },
    {
     "name": "stdout",
     "output_type": "stream",
     "text": [
      "2024  is a leap year\n"
     ]
    }
   ],
   "source": [
    "# Leap year\n",
    "year = int(input(\"Enter year\"))\n",
    "if(year %4 ==0 and year % 100 !=0):\n",
    "    print(year,\" is a leap year\")\n",
    "elif(year %4 ==0 and year % 100 ==0 and year % 400 ==0):\n",
    "    print(year,\" is a leap year\")\n",
    "else:\n",
    "    print(year,\" is not a leap year\")"
   ]
  },
  {
   "cell_type": "code",
   "execution_count": 10,
   "id": "ba5b534c-0f82-4a2f-8542-33afe568ebf5",
   "metadata": {},
   "outputs": [
    {
     "name": "stdin",
     "output_type": "stream",
     "text": [
      "Enter chacter: x\n"
     ]
    },
    {
     "name": "stdout",
     "output_type": "stream",
     "text": [
      "its consonant\n"
     ]
    }
   ],
   "source": [
    "#vowel and consonant\n",
    "vowel ={'a','e','i','o','u'}\n",
    "char = str(input(\"Enter chacter:\")).lower()\n",
    "if( char in vowel):\n",
    "    print(\"you entered vowel\")\n",
    "else:\n",
    "    print(\"its consonant\")"
   ]
  },
  {
   "cell_type": "code",
   "execution_count": 19,
   "id": "4e419d60-dcc1-4150-8985-087738a9ca4f",
   "metadata": {},
   "outputs": [
    {
     "name": "stdin",
     "output_type": "stream",
     "text": [
      "enter number 99\n"
     ]
    },
    {
     "name": "stdout",
     "output_type": "stream",
     "text": [
      "99  not  prime\n"
     ]
    }
   ],
   "source": [
    "#prime number\n",
    "a = int(input(\"enter number\"))\n",
    "if a < 2:\n",
    "    print(\"Not a prime\")\n",
    "else:\n",
    "    prime = True\n",
    "    for i in range(2,a):\n",
    "        if a%i ==0:\n",
    "            prime = False\n",
    "            break\n",
    "    if prime:\n",
    "        print(a,\" is prime\")\n",
    "    else:\n",
    "        print(a,\" not  prime\")"
   ]
  },
  {
   "cell_type": "code",
   "execution_count": 61,
   "id": "bc9405c8-eff0-4b2d-838d-b72c5e9696f2",
   "metadata": {},
   "outputs": [
    {
     "name": "stdin",
     "output_type": "stream",
     "text": [
      "Enter string helloxleh\n"
     ]
    },
    {
     "name": "stdout",
     "output_type": "stream",
     "text": [
      "l x\n",
      "helloxleh is NOT palindrome\n"
     ]
    }
   ],
   "source": [
    "#palindrome\n",
    "text=str(input(\"Enter string\"))\n",
    "isPalindrome= True\n",
    "midindex=int(len(text)/2)\n",
    "lastindex=len(text)-1\n",
    "for i in range(midindex + 1):\n",
    "    if(text[i]!=text[lastindex-i]):\n",
    "       isPalindrome= False\n",
    "       print(text[i], text[lastindex-i])\n",
    "       print(text, \"is NOT palindrome\")\n",
    "       break\n",
    "if isPalindrome:\n",
    "    print(text, \"is palindrome\")"
   ]
  },
  {
   "cell_type": "code",
   "execution_count": 62,
   "id": "a34e83f1-719f-414a-a83f-5eb247fbbf02",
   "metadata": {},
   "outputs": [
    {
     "name": "stdout",
     "output_type": "stream",
     "text": [
      "{3: 'C', 4: 'D', 5: 'E', 1: 'A', 2: 'B'}\n"
     ]
    },
    {
     "data": {
      "text/plain": [
       "dict_values(['C', 'D', 'E', 'A', 'B'])"
      ]
     },
     "execution_count": 62,
     "metadata": {},
     "output_type": "execute_result"
    }
   ],
   "source": [
    "dict={ 3:\"C\", 4:\"D\", 5:\"E\",1:\"A\", 2:\"B\"}\n",
    "print(dict)\n",
    "dict.values()"
   ]
  },
  {
   "cell_type": "code",
   "execution_count": 65,
   "id": "e0533b2f-a7a7-4d68-88a9-b1632f0e9050",
   "metadata": {},
   "outputs": [
    {
     "name": "stdin",
     "output_type": "stream",
     "text": [
      "Enter num1 -1\n",
      "Enter num2 10\n",
      "Enter num3 2\n"
     ]
    },
    {
     "name": "stdout",
     "output_type": "stream",
     "text": [
      "highest  10\n",
      "smallest -1\n"
     ]
    }
   ],
   "source": [
    "#find smallest, highest among 3 given numbers\n",
    "num1=int(input(\"Enter num1\"))\n",
    "num2=int(input(\"Enter num2\"))\n",
    "num3=int(input(\"Enter num3\"))\n",
    "li=[num1, num2, num3]\n",
    "li.sort()\n",
    "if(li[0] != li[2]):\n",
    "    print(\"highest \",li[2])\n",
    "    print(\"smallest\", li[0])\n",
    "else:\n",
    "    print(\"all equals\")"
   ]
  },
  {
   "cell_type": "code",
   "execution_count": 70,
   "id": "d62cd080-9f10-4a04-add8-948b6ae62f3d",
   "metadata": {},
   "outputs": [
    {
     "name": "stdout",
     "output_type": "stream",
     "text": [
      "sum  45\n",
      "multiplication  362880\n",
      "min  1\n",
      "max  9\n"
     ]
    }
   ],
   "source": [
    "#sum, multiplication, max, min of numbers in a list\n",
    "li=[1,2,3,4,5,6,7,8,9]\n",
    "_sum=0\n",
    "_multiplication=1;\n",
    "_min=li[0]\n",
    "_max=li[0]\n",
    "for x in li:\n",
    "    _sum+=x\n",
    "    _multiplication*=x\n",
    "    if _min >x:\n",
    "        _min=x\n",
    "    if _max <x:\n",
    "        _max=x\n",
    "print(\"sum \", _sum)\n",
    "print(\"multiplication \", _multiplication)\n",
    "print(\"min \", _min)\n",
    "print(\"max \", _max)"
   ]
  },
  {
   "cell_type": "code",
   "execution_count": 38,
   "id": "7ae85795-71d1-4673-9f20-5b0bce3a706b",
   "metadata": {},
   "outputs": [
    {
     "name": "stdout",
     "output_type": "stream",
     "text": [
      "not last 0\n",
      "not last 2\n",
      "not last 4\n",
      "last 6\n",
      "second max element :  4  in list:  [1, 2, 3, 4, 6, 6, 6]\n"
     ]
    }
   ],
   "source": [
    "#li=[1,2,3,4,5,5,9,10,0,11,12]\n",
    "li=[1,2,3,4,6,6,6]\n",
    "#li=[12,11,10,9,8,5]\n",
    "_max=-100 # take most negative value\n",
    "_sec_max=-100 # take most negative value\n",
    "i=0;\n",
    "while i<len(li):\n",
    "    if(i==len(li)-1):#last index\n",
    "        print(\"last\",i)\n",
    "        if(li[i]>_max):\n",
    "           _sec_max=_max\n",
    "           _max=li[i]\n",
    "        elif(li[i]>_sec_max):\n",
    "           _sec_max=li[i]\n",
    "        i=i+1\n",
    "    else:\n",
    "        print(\"not last\",i)\n",
    "        # consider two consecutive elements, find smaller and bigger and apply logic\n",
    "        if(li[i]>li[i+1]):\n",
    "            if(li[i]>_max):\n",
    "                _sec_max=_max\n",
    "                _max=li[i];\n",
    "            if(li[i+1]>_sec_max and li[i+1]<_max):\n",
    "                _sec_max=li[i+1]\n",
    "        elif(li[i]<li[i+1]):\n",
    "            if(li[i+1]>_max):\n",
    "                _sec_max=_max\n",
    "                _max=li[i+1];\n",
    "            if(li[i]>_sec_max and li[i]<_max):\n",
    "                _sec_max=li[i]\n",
    "        i=i+2;\n",
    "\n",
    "print(\"second max element : \",_sec_max, \" in list: \", li )\n",
    "\n",
    "    \n",
    "    \n"
   ]
  },
  {
   "cell_type": "code",
   "execution_count": 42,
   "id": "a835d0b4-5985-4bb2-8eb1-a749aa4e5b22",
   "metadata": {},
   "outputs": [
    {
     "name": "stdout",
     "output_type": "stream",
     "text": [
      "not last 0\n",
      "not last 2\n",
      "not last 4\n",
      "second min element :  8  in list:  [12, 11, 10, 9, 8, 5]\n"
     ]
    }
   ],
   "source": [
    "#li=[1,2,3,4,5,5,9,10,0,11,12]\n",
    "#li=[1,2,3,4,6,6,6]\n",
    "li=[12,11,10,9,8,5]\n",
    "_min=100 # take most postive value\n",
    "_sec_min=100 # take most postive value\n",
    "i=0;\n",
    "while i<len(li):\n",
    "    if(i==len(li)-1):#last index\n",
    "        print(\"last\",i)\n",
    "        if(li[i]<_min):\n",
    "           _sec_min=_min\n",
    "           _min=li[i]\n",
    "        elif(li[i]<_sec_min):\n",
    "           _sec_min=li[i]\n",
    "        i=i+1\n",
    "    else:\n",
    "        print(\"not last\",i)\n",
    "        # consider two consecutive elements, find smaller and bigger and apply logic\n",
    "        if(li[i]<li[i+1]):\n",
    "            if(li[i]<_min):\n",
    "                _sec_min=_min\n",
    "                _min=li[i];\n",
    "            if(li[i+1]<_sec_min and li[i+1]>_min):\n",
    "                _sec_min=li[i+1]\n",
    "        elif(li[i]>li[i+1]):\n",
    "            if(li[i+1]<_min):\n",
    "                _sec_min=_min\n",
    "                _min=li[i+1];\n",
    "            if(li[i]<_sec_min and li[i]>_min):\n",
    "                _sec_min=li[i]\n",
    "        i=i+2;\n",
    "\n",
    "print(\"second min element : \",_sec_min, \" in list: \", li )"
   ]
  },
  {
   "cell_type": "code",
   "execution_count": null,
   "id": "dff43fa6-c057-4b43-b165-6cd15f3a702b",
   "metadata": {},
   "outputs": [],
   "source": [
    "#transform "
   ]
  }
 ],
 "metadata": {
  "kernelspec": {
   "display_name": "Python 3 (ipykernel)",
   "language": "python",
   "name": "python3"
  },
  "language_info": {
   "codemirror_mode": {
    "name": "ipython",
    "version": 3
   },
   "file_extension": ".py",
   "mimetype": "text/x-python",
   "name": "python",
   "nbconvert_exporter": "python",
   "pygments_lexer": "ipython3",
   "version": "3.11.7"
  }
 },
 "nbformat": 4,
 "nbformat_minor": 5
}
