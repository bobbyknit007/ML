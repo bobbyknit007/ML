{
 "cells": [
  {
   "cell_type": "code",
   "execution_count": 2,
   "id": "26ed1f4b-acd5-46fd-ad73-5e6b200b288f",
   "metadata": {},
   "outputs": [
    {
     "name": "stdin",
     "output_type": "stream",
     "text": [
      "Eter number 6\n"
     ]
    },
    {
     "name": "stdout",
     "output_type": "stream",
     "text": [
      "6 is greater than 5\n"
     ]
    }
   ],
   "source": [
    "x = int(input(\"Enter number\"))\n",
    "if x >5:\n",
    "    print(f\"{x} is greater than 5\")"
   ]
  },
  {
   "cell_type": "code",
   "execution_count": 6,
   "id": "e961f2a3-d597-4680-abfe-98d7d00d95c7",
   "metadata": {},
   "outputs": [],
   "source": [
    "a = False\n",
    "if a :\n",
    "    print(\"Hello\")"
   ]
  },
  {
   "cell_type": "code",
   "execution_count": 9,
   "id": "239878dc-0d92-462f-a2e0-f96dbf717f4c",
   "metadata": {},
   "outputs": [
    {
     "data": {
      "text/plain": [
       "0"
      ]
     },
     "execution_count": 9,
     "metadata": {},
     "output_type": "execute_result"
    }
   ],
   "source": [
    "dict ={\"1\":\"A\"}\n",
    "len(dict)\n",
    "del dict[\"1\"]\n",
    "len(dict)"
   ]
  },
  {
   "cell_type": "code",
   "execution_count": 10,
   "id": "40d26d02-87de-4064-98bb-9ca3b43189f3",
   "metadata": {},
   "outputs": [
    {
     "name": "stdout",
     "output_type": "stream",
     "text": [
      "<class 'dict'>\n"
     ]
    }
   ],
   "source": [
    "d={}\n",
    "print(type(d))"
   ]
  },
  {
   "cell_type": "code",
   "execution_count": 11,
   "id": "fbe7e011-275f-43d9-a41b-b5a40bed12a1",
   "metadata": {},
   "outputs": [
    {
     "name": "stdin",
     "output_type": "stream",
     "text": [
      "Enter a numer 15\n"
     ]
    },
    {
     "name": "stdout",
     "output_type": "stream",
     "text": [
      "15  is disvible by both 3 & 5 \n",
      "we understood if-else\n"
     ]
    }
   ],
   "source": [
    "a = int(input(\"Enter a numer\"))\n",
    "if a %3 ==0 and a %5 ==0:\n",
    "    print(a,\" is disvible by both 3 & 5 \")\n",
    "else:\n",
    "     print(a,\" is NOT disvible by both 3, wont check for 5  \")\n",
    "print(\"we understood if-else\")"
   ]
  },
  {
   "cell_type": "code",
   "execution_count": 13,
   "id": "a8d584c6-96fd-4303-87d2-bd2902153607",
   "metadata": {},
   "outputs": [
    {
     "name": "stdin",
     "output_type": "stream",
     "text": [
      "Enter your age: 17\n"
     ]
    },
    {
     "name": "stdout",
     "output_type": "stream",
     "text": [
      "Sit at home and watch cartoon\n"
     ]
    }
   ],
   "source": [
    "age = int(input(\"Enter your age:\"))\n",
    "if ( age >=18):\n",
    "    print(\"Kindly vote\")\n",
    "else:\n",
    "    print(\"Sit at home and watch cartoon\")"
   ]
  },
  {
   "cell_type": "code",
   "execution_count": 19,
   "id": "11d32ca1-518e-4a59-8efd-3a0b9c2d9488",
   "metadata": {},
   "outputs": [
    {
     "name": "stdin",
     "output_type": "stream",
     "text": [
      "Enter chacter: X\n"
     ]
    },
    {
     "name": "stdout",
     "output_type": "stream",
     "text": [
      "its consonant\n"
     ]
    }
   ],
   "source": [
    "vowel ={'a','e','i','o','u'}\n",
    "char = str(input(\"Enter chacter:\")).lower()\n",
    "if( char in vowel):\n",
    "    print(\"you entered vowel\")\n",
    "else:\n",
    "    print(\"its consonant\")"
   ]
  },
  {
   "cell_type": "code",
   "execution_count": 30,
   "id": "6b17fc2e-89bf-47f5-826d-e0e403a4703c",
   "metadata": {},
   "outputs": [
    {
     "name": "stdin",
     "output_type": "stream",
     "text": [
      "Enter char abc\n"
     ]
    }
   ],
   "source": [
    "char = str(input(\"Enter char\"))\n",
    "if(char[0].isupper()):\n",
    "    print(\"Capital letter input\")"
   ]
  },
  {
   "cell_type": "code",
   "execution_count": 41,
   "id": "41e0a119-2712-4e6a-b27b-f93066e5f5d1",
   "metadata": {},
   "outputs": [
    {
     "name": "stdin",
     "output_type": "stream",
     "text": [
      "Enter number 29\n"
     ]
    },
    {
     "name": "stdout",
     "output_type": "stream",
     "text": [
      "NOT number divisble by 3\n"
     ]
    }
   ],
   "source": [
    "num = int((input(\"Enter number\")))\n",
    "if num % 3 ==0:\n",
    "\n",
    "elif num % 5 !=0:\n",
    "    print(\"NOT num divisble by 5\")\n",
    "else:\n",
    "    print(\"both by 3 and by 5\")"
   ]
  },
  {
   "cell_type": "code",
   "execution_count": 47,
   "id": "353861b2-3b28-42d8-a7ab-93297994b139",
   "metadata": {},
   "outputs": [
    {
     "name": "stdin",
     "output_type": "stream",
     "text": [
      "Enter number 12\n"
     ]
    },
    {
     "name": "stdout",
     "output_type": "stream",
     "text": [
      "12 is positive\n"
     ]
    }
   ],
   "source": [
    "# check num is positive, negative or zero\n",
    "num = int(input(\"Enter number\"))\n",
    "if(num ==0):\n",
    "    print(num , \" is zero\")\n",
    "elif num <0:\n",
    "    print(num, \"is negative\")\n",
    "else:\n",
    "   print(num, \"is positive\")"
   ]
  },
  {
   "cell_type": "code",
   "execution_count": 53,
   "id": "b5c2154d-c560-4c02-829c-2b62e1499413",
   "metadata": {},
   "outputs": [
    {
     "name": "stdin",
     "output_type": "stream",
     "text": [
      "Enter subject1 marks: 100\n",
      "Enter subject2 marks: 100\n",
      "Enter subject3 marks: 100\n",
      "Enter subject4 marks: 99\n"
     ]
    },
    {
     "name": "stdout",
     "output_type": "stream",
     "text": [
      "Kindly go to another planet\n"
     ]
    }
   ],
   "source": [
    "subject1 = int(input(\"Enter subject1 marks:\"))\n",
    "subject2 = int(input(\"Enter subject2 marks:\"))\n",
    "subject3 = int(input(\"Enter subject3 marks:\"))\n",
    "subject4 = int(input(\"Enter subject4 marks:\"))\n",
    "total = subject1+subject2+subject3+subject4\n",
    "percentage = (total/400)*100\n",
    "if(percentage > 99):\n",
    "    print(\"Kindly go to another planet\")\n",
    "elif(percentage < 99 and percentage > 90):\n",
    "    print(\"People expected more , Why can't you get more ???\")\n",
    "elif(percentage <90 and percentage >80):\n",
    "    print(\"you look normal , no cheating\")\n",
    "else:\n",
    "    print(\"you will performance improvment report :)\")"
   ]
  },
  {
   "cell_type": "markdown",
   "id": "5e5c70cf-2e20-488f-8ee9-0e2c69ccf8ca",
   "metadata": {},
   "source": [
    "\"\"\"the company decided to give bonus of 5% to employee if his/her year of service is more than 5 years.\n",
    " ask user their salary and year of service , print net bonus amount\n",
    " \"\"\"\n",
    "take length, breadth of rectangle from user , check if it sqaure or not \n",
    "take input of age of 3 people from user , determine , youngest , oldest among them\n",
    "a student wont be allowed to sit in exam, if his/her attenadace is less than 75%,. take following input from user , \n",
    "number of classes held, number of clases attended and print % of class attended , is student allowed to sit ine xam \n",
    "modify the above question to allow student to sit if he/has medical cause or not , e.g yes or no, and print accordingly"
   ]
  },
  {
   "cell_type": "code",
   "execution_count": 1,
   "id": "6909d55e-04be-4525-a245-a8f7c4ab39a4",
   "metadata": {},
   "outputs": [
    {
     "name": "stdin",
     "output_type": "stream",
     "text": [
      "Enter your salary: 100\n",
      "Enter your serviceperiod in years: 7\n"
     ]
    },
    {
     "name": "stdout",
     "output_type": "stream",
     "text": [
      " you are eligible for bonus worth 5.0 Rs\n"
     ]
    }
   ],
   "source": [
    "salary = float(input(\"Enter your salary:\"))\n",
    "serviceperiod = int(input(\"Enter your serviceperiod in years:\"))\n",
    "if(serviceperiod >5):\n",
    "    bonusamount = (salary*5)/100\n",
    "    print(f\" you are eligible for bonus worth {bonusamount} Rs\")\n",
    "else:\n",
    "    print(\" you are not eligible for bonus amount\")"
   ]
  },
  {
   "cell_type": "code",
   "execution_count": 5,
   "id": "ef220bba-1bb1-492c-a024-c5ea91dffea6",
   "metadata": {},
   "outputs": [
    {
     "name": "stdin",
     "output_type": "stream",
     "text": [
      "Enter length: 2\n",
      "Enter breadth: 3\n"
     ]
    },
    {
     "name": "stdout",
     "output_type": "stream",
     "text": [
      "Its a rectangle\n"
     ]
    }
   ],
   "source": [
    "length = int(input(\"Enter length:\"))\n",
    "breadth = int(input(\"Enter breadth:\"))\n",
    "if(length == breadth):\n",
    "    print(\"It's a sqaure\")\n",
    "else:\n",
    "    print(\"Its a rectangle\")"
   ]
  },
  {
   "cell_type": "code",
   "execution_count": 8,
   "id": "1578f295-7825-4a50-afe0-6b7e2bf271d3",
   "metadata": {},
   "outputs": [
    {
     "name": "stdin",
     "output_type": "stream",
     "text": [
      "Enter age1: 12\n",
      "Enter age2: 12\n",
      "Enter age3: 19\n"
     ]
    },
    {
     "name": "stdout",
     "output_type": "stream",
     "text": [
      " youngest is of age 12 and eldest is of age 19\n"
     ]
    }
   ],
   "source": [
    "age1 = int(input(\"Enter age1:\"))\n",
    "age2 = int(input(\"Enter age2:\"))\n",
    "age3 = int(input(\"Enter age3:\"))\n",
    "if(age1==age2==age3):\n",
    "    print(\"All are of equal age\")\n",
    "else:\n",
    "    ages=[age1, age2, age3]\n",
    "    ages.sort();\n",
    "    print(f\" youngest is of age {ages[0]} and eldest is of age {ages[2]}\")\n",
    "\n"
   ]
  },
  {
   "cell_type": "code",
   "execution_count": 15,
   "id": "7edd5c3d-324e-4c77-8464-5a32710cbb34",
   "metadata": {},
   "outputs": [
    {
     "name": "stdin",
     "output_type": "stream",
     "text": [
      "Total classes held 100\n",
      "Total classes attended 100\n",
      "Did you have medical cause ? yes or no yes\n"
     ]
    },
    {
     "name": "stdout",
     "output_type": "stream",
     "text": [
      "you are allowed to write exam\n"
     ]
    }
   ],
   "source": [
    "no_of_classes_held = int(input(\"Total classes held\"))\n",
    "no_of_classes_attended = int(input(\"Total classes attended\"))\n",
    "medical_cause =str(input(\"Did you have medical cause ? yes or no\")).lower()\n",
    "percentage_of_classes_attended= (no_of_classes_attended/no_of_classes_held)*100\n",
    "if(percentage_of_classes_attended >75):\n",
    "    print(\"you are allowed to write exam\")\n",
    "elif(percentage_of_classes_attended <75 and medical_cause =='yes'):\n",
    "    print(\"You are allowed to write exam\")\n",
    "else:\n",
    "    print(\"Sorry, you are not allowed to write exam\")"
   ]
  },
  {
   "cell_type": "code",
   "execution_count": 16,
   "id": "fcaa669a-7181-48d2-9b41-3feee09d6b35",
   "metadata": {},
   "outputs": [
    {
     "name": "stdin",
     "output_type": "stream",
     "text": [
      "Enter num 10\n"
     ]
    },
    {
     "name": "stdout",
     "output_type": "stream",
     "text": [
      "x is greater than 5\n",
      "x is also equal to 10\n"
     ]
    }
   ],
   "source": [
    "x = int(input(\"Enter num\"))\n",
    "\n",
    "if x > 5 and x ==10:\n",
    "    print(\"x is greater than 5\")\n",
    "    print(\"x is also equal to 10\")\n",
    "elif x > 5 and x !=10:\n",
    "    print(\"x is greater than 5\")\n",
    "    print(\"x is not equal to 10\")\n",
    "elif x <=5:\n",
    "    print(\"x is less than or equal to 5\")\n",
    "\n",
    "    "
   ]
  },
  {
   "cell_type": "code",
   "execution_count": 21,
   "id": "87be64d9-85d6-4740-a756-4bede0e83ed8",
   "metadata": {},
   "outputs": [
    {
     "name": "stdin",
     "output_type": "stream",
     "text": [
      "enter value 2\n",
      "enter value 3\n",
      "enter value 4\n"
     ]
    },
    {
     "name": "stdout",
     "output_type": "stream",
     "text": [
      "scalene triangle\n"
     ]
    }
   ],
   "source": [
    "a=int(input(\"enter value\"))\n",
    "b=int(input(\"enter value\"))\n",
    "c=int(input(\"enter value\"))\n",
    "if a+b > c and a+c > b and b+c>a:\n",
    "    if a==b==c:\n",
    "        print(\"Equilaterla trinagle\")\n",
    "    elif a==b or a==c or b==c:\n",
    "        print(\"Iso celes triangle\")\n",
    "    else:\n",
    "        print(\"scalene triangle\")\n",
    "else:\n",
    "    print(\"Not a triangle\")"
   ]
  },
  {
   "cell_type": "code",
   "execution_count": 33,
   "id": "780a7444-c4bd-4555-baca-22ceb6c79161",
   "metadata": {},
   "outputs": [
    {
     "name": "stdin",
     "output_type": "stream",
     "text": [
      "Enter num1 10\n",
      "Enter num2 0\n",
      "Enter operator allowed , + - / * \n",
      " /\n",
      "Don't give denominator equal to 0 \n",
      " 1\n"
     ]
    },
    {
     "name": "stdout",
     "output_type": "stream",
     "text": [
      " 10 / 1 = 10.0\n"
     ]
    }
   ],
   "source": [
    "num1 = int(input(\"Enter num1\"))\n",
    "num2 = int(input(\"Enter num2\"))\n",
    "operator = str(input(\"Enter operator allowed , + - / * \\n\"))\n",
    "if operator == '+':\n",
    "    print(f\" {num1} {operator} {num2} = {num1+num2}\")\n",
    "elif operator == '-':\n",
    "    print(f\" {num1} {operator} {num2} = {num1-num2}\")\n",
    "elif operator == '*':\n",
    "    print(f\" {num1} {operator} {num2} = {num1*num2}\")\n",
    "elif operator == '/' and num2 !=0:\n",
    "    print(f\" {num1} {operator} {num2} = {num1/num2}\")\n",
    "elif operator == '/' and num2 ==0:\n",
    "    num2 = int(input(\"Don't give denominator equal to 0 \\n\"))\n",
    "    print(f\" {num1} {operator} {num2} = {num1/num2}\")\n",
    "else:\n",
    "    print(\"Please enter valid operator\")"
   ]
  },
  {
   "cell_type": "code",
   "execution_count": 42,
   "id": "4a3ede91-6d1a-478e-b748-60be00475010",
   "metadata": {},
   "outputs": [
    {
     "name": "stdin",
     "output_type": "stream",
     "text": [
      "Enter number 16\n"
     ]
    },
    {
     "name": "stdout",
     "output_type": "stream",
     "text": [
      "Not Divisible by 5 and  3\n"
     ]
    }
   ],
   "source": [
    "num = int((input(\"Enter number\")))\n",
    "if num % 3 ==0:\n",
    "   if num % 5 ==0:\n",
    "       print(\"Divisible by 3 and 5\")\n",
    "   else:\n",
    "       print(\"Divisible by 3 , not by  5\")\n",
    "else:\n",
    "    if num % 5 ==0:\n",
    "        print(\"Divisible by 5 , not by  3\")\n",
    "    else:\n",
    "        print(\"Not Divisible by 5 and  3\")"
   ]
  },
  {
   "cell_type": "code",
   "execution_count": 43,
   "id": "71de0d1b-e744-45a0-889f-f93d58acf6d7",
   "metadata": {},
   "outputs": [
    {
     "name": "stdout",
     "output_type": "stream",
     "text": [
      "Help on class range in module builtins:\n",
      "\n",
      "class range(object)\n",
      " |  range(stop) -> range object\n",
      " |  range(start, stop[, step]) -> range object\n",
      " |  \n",
      " |  Return an object that produces a sequence of integers from start (inclusive)\n",
      " |  to stop (exclusive) by step.  range(i, j) produces i, i+1, i+2, ..., j-1.\n",
      " |  start defaults to 0, and stop is omitted!  range(4) produces 0, 1, 2, 3.\n",
      " |  These are exactly the valid indices for a list of 4 elements.\n",
      " |  When step is given, it specifies the increment (or decrement).\n",
      " |  \n",
      " |  Methods defined here:\n",
      " |  \n",
      " |  __bool__(self, /)\n",
      " |      True if self else False\n",
      " |  \n",
      " |  __contains__(self, key, /)\n",
      " |      Return key in self.\n",
      " |  \n",
      " |  __eq__(self, value, /)\n",
      " |      Return self==value.\n",
      " |  \n",
      " |  __ge__(self, value, /)\n",
      " |      Return self>=value.\n",
      " |  \n",
      " |  __getattribute__(self, name, /)\n",
      " |      Return getattr(self, name).\n",
      " |  \n",
      " |  __getitem__(self, key, /)\n",
      " |      Return self[key].\n",
      " |  \n",
      " |  __gt__(self, value, /)\n",
      " |      Return self>value.\n",
      " |  \n",
      " |  __hash__(self, /)\n",
      " |      Return hash(self).\n",
      " |  \n",
      " |  __iter__(self, /)\n",
      " |      Implement iter(self).\n",
      " |  \n",
      " |  __le__(self, value, /)\n",
      " |      Return self<=value.\n",
      " |  \n",
      " |  __len__(self, /)\n",
      " |      Return len(self).\n",
      " |  \n",
      " |  __lt__(self, value, /)\n",
      " |      Return self<value.\n",
      " |  \n",
      " |  __ne__(self, value, /)\n",
      " |      Return self!=value.\n",
      " |  \n",
      " |  __reduce__(...)\n",
      " |      Helper for pickle.\n",
      " |  \n",
      " |  __repr__(self, /)\n",
      " |      Return repr(self).\n",
      " |  \n",
      " |  __reversed__(...)\n",
      " |      Return a reverse iterator.\n",
      " |  \n",
      " |  count(...)\n",
      " |      rangeobject.count(value) -> integer -- return number of occurrences of value\n",
      " |  \n",
      " |  index(...)\n",
      " |      rangeobject.index(value) -> integer -- return index of value.\n",
      " |      Raise ValueError if the value is not present.\n",
      " |  \n",
      " |  ----------------------------------------------------------------------\n",
      " |  Static methods defined here:\n",
      " |  \n",
      " |  __new__(*args, **kwargs) from builtins.type\n",
      " |      Create and return a new object.  See help(type) for accurate signature.\n",
      " |  \n",
      " |  ----------------------------------------------------------------------\n",
      " |  Data descriptors defined here:\n",
      " |  \n",
      " |  start\n",
      " |  \n",
      " |  step\n",
      " |  \n",
      " |  stop\n",
      "\n"
     ]
    }
   ],
   "source": [
    "help(range)"
   ]
  },
  {
   "cell_type": "code",
   "execution_count": 50,
   "id": "fb2f2f8b-2cd5-4532-a5c0-eee2049f5c84",
   "metadata": {},
   "outputs": [
    {
     "name": "stdout",
     "output_type": "stream",
     "text": [
      "1\n",
      "2\n",
      "3\n"
     ]
    }
   ],
   "source": [
    "for a in {1,2,3,3}:\n",
    "    print(a)"
   ]
  },
  {
   "cell_type": "code",
   "execution_count": 51,
   "id": "a99013b0-aa11-483e-be02-c6a66feec1dc",
   "metadata": {},
   "outputs": [
    {
     "name": "stdout",
     "output_type": "stream",
     "text": [
      "0\n",
      "2\n",
      "4\n",
      "6\n",
      "8\n"
     ]
    }
   ],
   "source": [
    "for a in [x for x in range(10)]:\n",
    "    if a %2==0:\n",
    "        print(a)"
   ]
  },
  {
   "cell_type": "code",
   "execution_count": 57,
   "id": "368f9f2f-1343-4312-92a0-7d5962794a2d",
   "metadata": {},
   "outputs": [
    {
     "name": "stdout",
     "output_type": "stream",
     "text": [
      "[0, 10, 20, 30, 40, 50, 60, 70, 80, 90]\n"
     ]
    }
   ],
   "source": [
    "print([x for x in range(100) if x%10==0])"
   ]
  },
  {
   "cell_type": "code",
   "execution_count": 58,
   "id": "b7b38da6-1de4-4733-a5eb-59de5feed0aa",
   "metadata": {},
   "outputs": [
    {
     "name": "stdout",
     "output_type": "stream",
     "text": [
      "[0, 2, 4, 6, 8]\n"
     ]
    }
   ],
   "source": [
    "print([x for x in range(10) if x%2 ==0])"
   ]
  },
  {
   "cell_type": "code",
   "execution_count": 59,
   "id": "2fb728ee-6ea1-4f36-aa23-77a5bf1f1fa4",
   "metadata": {},
   "outputs": [
    {
     "name": "stdout",
     "output_type": "stream",
     "text": [
      "[1, 3, 5, 7, 9]\n"
     ]
    }
   ],
   "source": [
    "print([a for a in range(10) if a%2!=0])"
   ]
  },
  {
   "cell_type": "code",
   "execution_count": 60,
   "id": "3724000c-ef17-4555-aaf2-19c6a459eabf",
   "metadata": {},
   "outputs": [
    {
     "name": "stdout",
     "output_type": "stream",
     "text": [
      "2\n",
      "3\n",
      "4\n",
      "5\n",
      "6\n",
      "7\n",
      "8\n",
      "9\n"
     ]
    }
   ],
   "source": [
    "for n in range(2,10):\n",
    "    print(n)"
   ]
  },
  {
   "cell_type": "code",
   "execution_count": 74,
   "id": "aaeab867-014c-4ab0-a819-e16154a4ae39",
   "metadata": {},
   "outputs": [
    {
     "name": "stdout",
     "output_type": "stream",
     "text": [
      "odd 1\n",
      "even 2\n",
      "odd 3\n",
      "even 4\n",
      "odd 5\n",
      "even 6\n",
      "odd 7\n",
      "even 8\n",
      "odd 9\n",
      "even 10\n",
      "odd 11\n"
     ]
    }
   ],
   "source": [
    "numbers=[n+1 for n in range(11)]\n",
    "for num in numbers:\n",
    "    if(num %2 ==0):\n",
    "        print(f\"even {num}\")\n",
    "    else:\n",
    "        print(f\"odd {num}\")"
   ]
  },
  {
   "cell_type": "code",
   "execution_count": 68,
   "id": "cc88702a-1ab7-4a81-bd29-0990c269d57b",
   "metadata": {},
   "outputs": [
    {
     "name": "stdin",
     "output_type": "stream",
     "text": [
      "Enter num 17\n"
     ]
    },
    {
     "name": "stdout",
     "output_type": "stream",
     "text": [
      "17 * 1 = 17\n",
      "17 * 2 = 34\n",
      "17 * 3 = 51\n",
      "17 * 4 = 68\n",
      "17 * 5 = 85\n",
      "17 * 6 = 102\n",
      "17 * 7 = 119\n",
      "17 * 8 = 136\n",
      "17 * 9 = 153\n",
      "17 * 10 = 170\n"
     ]
    }
   ],
   "source": [
    "a = int(input(\"Enter num\"))\n",
    "for i in range(1,11):\n",
    "    print(f\"{a} * {i} = {a*i}\")"
   ]
  },
  {
   "cell_type": "code",
   "execution_count": 72,
   "id": "cb39061d-37a2-4207-8396-949a33109a3c",
   "metadata": {},
   "outputs": [
    {
     "name": "stdin",
     "output_type": "stream",
     "text": [
      "Enter nu 2\n",
      "Enter till 10\n"
     ]
    },
    {
     "name": "stdout",
     "output_type": "stream",
     "text": [
      "2\n",
      "4\n",
      "6\n",
      "8\n",
      "10\n"
     ]
    }
   ],
   "source": [
    "n = int(input(\"Enter nu\"))\n",
    "c = int(input(\"Enter till\"))\n",
    "for i in range(n,c+1,n):\n",
    "    print(i)"
   ]
  },
  {
   "cell_type": "code",
   "execution_count": 82,
   "id": "8365ff8a-5d55-49ca-bb28-7386ab4b37d1",
   "metadata": {},
   "outputs": [
    {
     "name": "stdout",
     "output_type": "stream",
     "text": [
      "{'MERCURY': 'm', 'VENUS': 'v', 'EARTH': 'e', 'MARS': 'm', 'JUPITER': 'j', 'SATURN': 's', 'URANUS': 'u', 'NEPTUNE': 'n'}\n"
     ]
    }
   ],
   "source": [
    "planets=[ \"Mercury\", \"Venus\", \"Earth\", \"Mars\", \"Jupiter\", \"Saturn\", \"Uranus\", \"Neptune\"]\n",
    "planet_to_initial={element.upper(): element[0].lower() for element in planets}\n",
    "print(planet_to_initial)"
   ]
  },
  {
   "cell_type": "code",
   "execution_count": 86,
   "id": "2aadc8a5-68c8-4b03-91cf-2acd1e17954f",
   "metadata": {},
   "outputs": [
    {
     "name": "stdout",
     "output_type": "stream",
     "text": [
      "MERCURY    begins with \"m\"\n",
      "   MERCURY begins with \"m\"\n",
      "VENUS      begins with \"v\"\n",
      "     VENUS begins with \"v\"\n",
      "EARTH      begins with \"e\"\n",
      "     EARTH begins with \"e\"\n",
      "MARS       begins with \"m\"\n",
      "      MARS begins with \"m\"\n",
      "JUPITER    begins with \"j\"\n",
      "   JUPITER begins with \"j\"\n",
      "SATURN     begins with \"s\"\n",
      "    SATURN begins with \"s\"\n",
      "URANUS     begins with \"u\"\n",
      "    URANUS begins with \"u\"\n",
      "NEPTUNE    begins with \"n\"\n",
      "   NEPTUNE begins with \"n\"\n"
     ]
    }
   ],
   "source": [
    "for key, value in planet_to_initial.items():\n",
    "    print(\"{} begins with \\\"{}\\\"\".format(key.ljust(10), value))# return string with length 10, left justified\n",
    "    print(\"{} begins with \\\"{}\\\"\".format(key.rjust(10), value))# return string with length 10, right justified"
   ]
  },
  {
   "cell_type": "code",
   "execution_count": 98,
   "id": "457e6fa7-cac9-448f-a168-f80a9a478625",
   "metadata": {},
   "outputs": [
    {
     "name": "stdin",
     "output_type": "stream",
     "text": [
      "enter number 39\n"
     ]
    },
    {
     "name": "stdout",
     "output_type": "stream",
     "text": [
      "39  not  prime\n"
     ]
    }
   ],
   "source": [
    "a = int(input(\"enter number\"))\n",
    "if a < 2:\n",
    "    print(\"Not a prime\")\n",
    "else:\n",
    "    prime = True\n",
    "    for i in range(2,a):\n",
    "        if a%i ==0:\n",
    "            prime = False\n",
    "            break\n",
    "    if prime:\n",
    "        print(a,\" is prime\")\n",
    "    else:\n",
    "        print(a,\" not  prime\")"
   ]
  },
  {
   "cell_type": "code",
   "execution_count": 100,
   "id": "a185f57a-f4da-4933-9ae1-e1893d0178f9",
   "metadata": {},
   "outputs": [
    {
     "name": "stdout",
     "output_type": "stream",
     "text": [
      "sum is  36\n"
     ]
    }
   ],
   "source": [
    "a =(1,2,3,4,5,6,7,8)\n",
    "_sum =0\n",
    "for element in a:\n",
    "    _sum+=element\n",
    "print(\"sum is \",_sum)\n",
    "    "
   ]
  },
  {
   "cell_type": "code",
   "execution_count": 101,
   "id": "f94bf4d3-d76d-426a-b7ae-0eaaeff1c955",
   "metadata": {},
   "outputs": [
    {
     "name": "stdout",
     "output_type": "stream",
     "text": [
      "sumis 36\n"
     ]
    }
   ],
   "source": [
    "a =(1,2,3,4,5,6,7,8)\n",
    "_sum =0\n",
    "for element in a:\n",
    "    _sum =_sum + element\n",
    "print(\"sum is\",_sum)"
   ]
  },
  {
   "cell_type": "code",
   "execution_count": 102,
   "id": "f9434e93-87bb-489c-a562-013f24945e44",
   "metadata": {},
   "outputs": [
    {
     "name": "stdout",
     "output_type": "stream",
     "text": [
      "B\n",
      "i\n",
      "w\n",
      "i\n",
      " \n",
      "I\n",
      " \n",
      "l\n",
      "o\n",
      "v\n",
      "e\n",
      " \n",
      "y\n",
      "o\n",
      "u\n"
     ]
    }
   ],
   "source": [
    "message =\"Biwi I love you\"\n",
    "for x in message:\n",
    "    print(x)"
   ]
  },
  {
   "cell_type": "code",
   "execution_count": 104,
   "id": "45e58c9a-c361-46c9-b9a6-c432f6a3e28d",
   "metadata": {},
   "outputs": [
    {
     "name": "stdout",
     "output_type": "stream",
     "text": [
      "1\n",
      "3\n",
      "4\n",
      "5\n",
      "10\n",
      "11\n",
      "12\n"
     ]
    }
   ],
   "source": [
    "se={1,10,11,12,3,3,5,4}\n",
    "for e in se:\n",
    "    print(e)"
   ]
  },
  {
   "cell_type": "markdown",
   "id": "d7dd1b62-4775-4028-b58a-9046210110cf",
   "metadata": {},
   "source": [
    "Malkanagouda.analogica@gmail.com"
   ]
  },
  {
   "cell_type": "code",
   "execution_count": 1,
   "id": "92e4d2ee-c8f1-4b00-8f1f-3362cc5dcea0",
   "metadata": {},
   "outputs": [
    {
     "name": "stdout",
     "output_type": "stream",
     "text": [
      "0\n",
      "1\n",
      "2\n"
     ]
    }
   ],
   "source": [
    "#while loop\n",
    "z=0\n",
    "while z<3:\n",
    "    print(z)\n",
    "    z+=1"
   ]
  },
  {
   "cell_type": "code",
   "execution_count": 2,
   "id": "6fdd86d2-47d1-4cec-8091-4f6203bbfb74",
   "metadata": {},
   "outputs": [
    {
     "name": "stdout",
     "output_type": "stream",
     "text": [
      "15\n"
     ]
    }
   ],
   "source": [
    "a=[1,2,3,4,5]\n",
    "_sum=0\n",
    "index=0\n",
    "while index<len(a):\n",
    "    _sum+=a[index]\n",
    "    index+=1\n",
    "print(_sum)"
   ]
  },
  {
   "cell_type": "code",
   "execution_count": 4,
   "id": "a5674fae-f180-496b-af50-5c627e071c62",
   "metadata": {},
   "outputs": [
    {
     "name": "stdout",
     "output_type": "stream",
     "text": [
      "t\n",
      "h\n",
      "i\n",
      "s\n",
      "i\n",
      "s\n",
      "encountred breaking condition\n",
      "out of loop\n"
     ]
    }
   ],
   "source": [
    "comment=\"thisisxxithink\"\n",
    "for element in comment:\n",
    "    if(element == 'x'):\n",
    "        print(\"encountred breaking condition\")\n",
    "        break\n",
    "    else:\n",
    "        print(element)\n",
    "print(\"out of loop\")"
   ]
  },
  {
   "cell_type": "code",
   "execution_count": 5,
   "id": "417692a3-2dff-4261-909a-2db8cc81b88a",
   "metadata": {},
   "outputs": [
    {
     "name": "stdout",
     "output_type": "stream",
     "text": [
      "1\n",
      "2\n",
      "3\n",
      "4\n",
      "5\n",
      "loop finished\n"
     ]
    }
   ],
   "source": [
    "a={1,2,3,4,5}\n",
    "while a:\n",
    "    print(a.pop())\n",
    "print(\"loop finished\")"
   ]
  },
  {
   "cell_type": "code",
   "execution_count": 6,
   "id": "b0fd21ed-d5d8-47ef-a12b-ef30cfcd3c67",
   "metadata": {},
   "outputs": [
    {
     "name": "stdout",
     "output_type": "stream",
     "text": [
      "(4, 'D')\n",
      "(3, 'C')\n",
      "(2, 'B')\n",
      "(1, 'A')\n",
      "done\n"
     ]
    }
   ],
   "source": [
    "a={1:'A', 2 :'B', 3:'C', 4:'D'}\n",
    "while a:\n",
    "    print(a.popitem())\n",
    "print('done')"
   ]
  },
  {
   "cell_type": "code",
   "execution_count": 7,
   "id": "c0502b3e-2be6-4de4-9666-1d05b2556f2d",
   "metadata": {},
   "outputs": [
    {
     "name": "stdout",
     "output_type": "stream",
     "text": [
      "5\n",
      "4\n",
      "3\n",
      "2\n",
      "1\n"
     ]
    }
   ],
   "source": [
    "for i in range(5, 0, -1):\n",
    "    print(i)"
   ]
  },
  {
   "cell_type": "code",
   "execution_count": 8,
   "id": "5ef5c944-ad0c-4afb-afb9-05c0f6d68584",
   "metadata": {},
   "outputs": [
    {
     "name": "stdout",
     "output_type": "stream",
     "text": [
      "1 3 5 7 9 "
     ]
    }
   ],
   "source": [
    "for i in range(1, 10, 2):\n",
    "    print(i, end=\" \")"
   ]
  },
  {
   "cell_type": "code",
   "execution_count": 9,
   "id": "2144e649-0e9c-41b2-abf4-298f5ecbf5e6",
   "metadata": {},
   "outputs": [
    {
     "name": "stdout",
     "output_type": "stream",
     "text": [
      "5\n",
      "4\n",
      "3\n",
      "2\n",
      "1\n",
      "Loop ended.\n"
     ]
    }
   ],
   "source": [
    "x = 5\n",
    "while x > 0:\n",
    "    print(x)\n",
    "    x -= 1\n",
    "else:\n",
    "    print(\"Loop ended.\")"
   ]
  },
  {
   "cell_type": "code",
   "execution_count": null,
   "id": "ab70dae9-69fd-4f56-9e98-251cc3acacee",
   "metadata": {},
   "outputs": [],
   "source": []
  }
 ],
 "metadata": {
  "kernelspec": {
   "display_name": "Python 3 (ipykernel)",
   "language": "python",
   "name": "python3"
  },
  "language_info": {
   "codemirror_mode": {
    "name": "ipython",
    "version": 3
   },
   "file_extension": ".py",
   "mimetype": "text/x-python",
   "name": "python",
   "nbconvert_exporter": "python",
   "pygments_lexer": "ipython3",
   "version": "3.11.7"
  }
 },
 "nbformat": 4,
 "nbformat_minor": 5
}
