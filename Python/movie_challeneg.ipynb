{
 "cells": [
  {
   "cell_type": "code",
   "execution_count": 4,
   "id": "42640086-f28b-454b-a3e1-e8be4d808240",
   "metadata": {},
   "outputs": [],
   "source": [
    "movie_ratings=dict()\n",
    "def add_movie_rating(movie, rating):\n",
    "    movie_ratings[movie]=rating"
   ]
  },
  {
   "cell_type": "code",
   "execution_count": 5,
   "id": "8a461d7a-a0ab-4e5d-b830-abd9239f4ed2",
   "metadata": {},
   "outputs": [],
   "source": [
    "def get_average_rating():\n",
    "    sum=0;\n",
    "    for rating in movie_ratings.values():\n",
    "        sum=sum+rating\n",
    "    return sum/len(movie_ratings)"
   ]
  },
  {
   "cell_type": "code",
   "execution_count": 6,
   "id": "086dd28a-4b75-44dd-ae8d-4e20237e50cc",
   "metadata": {},
   "outputs": [],
   "source": [
    "def find_highest_rated_movie():\n",
    "    max_rating=max(movie_ratings.values())\n",
    "    for movie,rating in movie_ratings.items():\n",
    "        if(rating==max_rating):\n",
    "            return movie"
   ]
  },
  {
   "cell_type": "code",
   "execution_count": 34,
   "id": "f6aaa8af-44a7-4ee8-aae3-7baaa6ee76db",
   "metadata": {},
   "outputs": [],
   "source": [
    "def recommend_movie(movie_name):\n",
    "    movie_found=False\n",
    "    print(movie_ratings)\n",
    "    for movie,rating in movie_ratings.items():\n",
    "        if(movie==movie_name):\n",
    "            movie_found=True\n",
    "            if(rating >=8.5):\n",
    "                print(\"movie\", movie_name, \"is a must watch!\")\n",
    "                break\n",
    "            elif(rating >=7.0 and rating <8.5):\n",
    "                print(\"movie\", movie_name, \" is recommanded\")\n",
    "                break\n",
    "            else:\n",
    "                print(\"movie\", movie_name, \" consider it later\")\n",
    "                break\n",
    "    if(movie_found==False):\n",
    "         print(\"Sorry , No recommandation found for this movie, \",movie_name)"
   ]
  },
  {
   "cell_type": "code",
   "execution_count": 35,
   "id": "9b630b4f-5cae-4ee6-911a-aeacce7284cf",
   "metadata": {},
   "outputs": [],
   "source": [
    "import time\n",
    "def main():\n",
    "    movie_ratings.clear()\n",
    "    print(\"Enter 5 movies and its rating\")\n",
    "    index =0\n",
    "    while(index<5):\n",
    "        movie=str(input(\"Enter movie name\"))\n",
    "        rating=float(input(\"Enter movie rating\"))\n",
    "        add_movie_rating(movie, rating)\n",
    "        index=index+1\n",
    "    time.sleep(2)\n",
    "    print(\"Here's the average rating: \", get_average_rating())\n",
    "    time.sleep(2)\n",
    "    print(\"Here's the highest rated movie: \",find_highest_rated_movie())\n",
    "    time.sleep(2)\n",
    "    movie_name=str(input(\"Ask for recommandation, give movie name\"))\n",
    "    recommend_movie(movie_name)"
   ]
  },
  {
   "cell_type": "code",
   "execution_count": 36,
   "id": "094e7831-7961-4b26-a5c4-0b00cb36d769",
   "metadata": {},
   "outputs": [
    {
     "name": "stdout",
     "output_type": "stream",
     "text": [
      "Enter 5 movies and its rating\n"
     ]
    },
    {
     "name": "stdin",
     "output_type": "stream",
     "text": [
      "Enter movie name movie1\n",
      "Enter movie rating 9.2\n",
      "Enter movie name movie2\n",
      "Enter movie rating 9.0\n",
      "Enter movie name movie3\n",
      "Enter movie rating 8.5\n",
      "Enter movie name movie4\n",
      "Enter movie rating 8.4\n",
      "Enter movie name movie5\n",
      "Enter movie rating 7.0\n"
     ]
    },
    {
     "name": "stdout",
     "output_type": "stream",
     "text": [
      "Here's the average rating:  8.42\n",
      "Here's the highest rated movie:  movie1\n"
     ]
    },
    {
     "name": "stdin",
     "output_type": "stream",
     "text": [
      "Ask for recommandation, give movie name movie3\n"
     ]
    },
    {
     "name": "stdout",
     "output_type": "stream",
     "text": [
      "{'movie1': 9.2, 'movie2': 9.0, 'movie3': 8.5, 'movie4': 8.4, 'movie5': 7.0}\n",
      "movie movie3 is a must watch!\n"
     ]
    }
   ],
   "source": [
    "main()"
   ]
  },
  {
   "cell_type": "code",
   "execution_count": null,
   "id": "3dbbacc7-0664-4777-bf07-6601d32c99e9",
   "metadata": {},
   "outputs": [],
   "source": []
  }
 ],
 "metadata": {
  "kernelspec": {
   "display_name": "Python 3 (ipykernel)",
   "language": "python",
   "name": "python3"
  },
  "language_info": {
   "codemirror_mode": {
    "name": "ipython",
    "version": 3
   },
   "file_extension": ".py",
   "mimetype": "text/x-python",
   "name": "python",
   "nbconvert_exporter": "python",
   "pygments_lexer": "ipython3",
   "version": "3.11.7"
  }
 },
 "nbformat": 4,
 "nbformat_minor": 5
}
