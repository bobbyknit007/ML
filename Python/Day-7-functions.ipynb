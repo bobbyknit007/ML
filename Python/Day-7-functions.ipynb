{
 "cells": [
  {
   "cell_type": "code",
   "execution_count": 1,
   "id": "dc88ef66-f2aa-4f03-a569-fc0a8d884fb5",
   "metadata": {},
   "outputs": [],
   "source": [
    "def my_function():\n",
    "    print(\"you just called my_function\")"
   ]
  },
  {
   "cell_type": "code",
   "execution_count": 2,
   "id": "709b15c9-ccbd-4f09-9e2b-cb322ad7eb83",
   "metadata": {},
   "outputs": [
    {
     "name": "stdout",
     "output_type": "stream",
     "text": [
      "you just called my_function\n"
     ]
    }
   ],
   "source": [
    "my_function()"
   ]
  },
  {
   "cell_type": "code",
   "execution_count": 3,
   "id": "c00e5ede-f3ec-4d11-b5ef-65aa82550001",
   "metadata": {},
   "outputs": [],
   "source": [
    "def add(x,y):\n",
    "    z=x+y\n",
    "    return z\n"
   ]
  },
  {
   "cell_type": "code",
   "execution_count": 4,
   "id": "7372f54a-2a31-4fb3-8263-0248f8d2af62",
   "metadata": {},
   "outputs": [
    {
     "name": "stdout",
     "output_type": "stream",
     "text": [
      "11\n"
     ]
    }
   ],
   "source": [
    "print(add(5,6))"
   ]
  },
  {
   "cell_type": "code",
   "execution_count": 5,
   "id": "f4f5756d-9ec3-4102-a5a8-e6cf8ab9991d",
   "metadata": {},
   "outputs": [],
   "source": [
    "def describe_pet(animal_type, pet_name):\n",
    "    print('\\n I have a {}'.format(animal_type))\n",
    "    print('my cat name is {}'.format(pet_name))\n"
   ]
  },
  {
   "cell_type": "code",
   "execution_count": 6,
   "id": "e8b14dda-d583-4cea-bbf7-63d5ef319bd8",
   "metadata": {},
   "outputs": [
    {
     "name": "stdout",
     "output_type": "stream",
     "text": [
      "\n",
      " I have a cat\n",
      "my cat name is oreo\n"
     ]
    }
   ],
   "source": [
    "describe_pet('cat','oreo')"
   ]
  },
  {
   "cell_type": "code",
   "execution_count": 7,
   "id": "bd2f0093-a9aa-464e-a67e-c8859944a4ba",
   "metadata": {},
   "outputs": [
    {
     "name": "stdout",
     "output_type": "stream",
     "text": [
      "\n",
      " I have a cat\n",
      "my cat name is oreo\n"
     ]
    }
   ],
   "source": [
    "describe_pet(pet_name='oreo', animal_type='cat')"
   ]
  },
  {
   "cell_type": "code",
   "execution_count": 11,
   "id": "f2cbf02a-cbe8-45bd-b52d-4591f6e8c472",
   "metadata": {},
   "outputs": [],
   "source": [
    "def maximum(* param):\n",
    "    y=[]\n",
    "    for i in param:\n",
    "        y.append(i)\n",
    "    z=max(y)\n",
    "    print(z)"
   ]
  },
  {
   "cell_type": "code",
   "execution_count": 12,
   "id": "42838d46-e464-49ab-a2da-6c20b85eaf48",
   "metadata": {},
   "outputs": [
    {
     "name": "stdout",
     "output_type": "stream",
     "text": [
      "4\n"
     ]
    }
   ],
   "source": [
    "maximum(1,2,3,4)"
   ]
  },
  {
   "cell_type": "code",
   "execution_count": 14,
   "id": "a00dc223-4d71-459e-8beb-b20660e25369",
   "metadata": {},
   "outputs": [],
   "source": [
    "def is_even(x):\n",
    "    if(x%2==0):\n",
    "        print(\"even number\")\n",
    "    else:\n",
    "        print(\"odd number\")"
   ]
  },
  {
   "cell_type": "code",
   "execution_count": 15,
   "id": "eaa677b1-8a68-4455-821c-4de47204446c",
   "metadata": {},
   "outputs": [
    {
     "name": "stdout",
     "output_type": "stream",
     "text": [
      "odd number\n"
     ]
    }
   ],
   "source": [
    "is_even(5)"
   ]
  },
  {
   "cell_type": "code",
   "execution_count": 1,
   "id": "f14fa6b7-5132-4a8b-9304-64f6d79cb898",
   "metadata": {},
   "outputs": [
    {
     "name": "stdout",
     "output_type": "stream",
     "text": [
      "3\n"
     ]
    }
   ],
   "source": [
    "def my_function(param1, param2):\n",
    "    result =param1+param2;\n",
    "    return result;\n",
    "print(my_function(1,2))"
   ]
  },
  {
   "cell_type": "code",
   "execution_count": 3,
   "id": "59f1bf72-43a5-44a6-82df-4e0aa00be4c3",
   "metadata": {},
   "outputs": [
    {
     "name": "stdin",
     "output_type": "stream",
     "text": [
      "Enter num x -1\n",
      "Enter num y 1\n"
     ]
    },
    {
     "name": "stdout",
     "output_type": "stream",
     "text": [
      "0\n"
     ]
    }
   ],
   "source": [
    "def add():\n",
    "    x=int(input(\"Enter num x\"))\n",
    "    y=int(input(\"Enter num y\"))\n",
    "    z = x+y\n",
    "    print(z)\n",
    "add()"
   ]
  },
  {
   "cell_type": "code",
   "execution_count": 4,
   "id": "b8748bb1-9484-4683-a9bf-03f07d877bf3",
   "metadata": {},
   "outputs": [],
   "source": [
    "def div(numbers):\n",
    "    for num in numbers:\n",
    "        if num%2==0:\n",
    "            return num"
   ]
  },
  {
   "cell_type": "code",
   "execution_count": 5,
   "id": "02cdae83-85b7-4d11-a5f8-3c061af6eaad",
   "metadata": {},
   "outputs": [
    {
     "data": {
      "text/plain": [
       "2"
      ]
     },
     "execution_count": 5,
     "metadata": {},
     "output_type": "execute_result"
    }
   ],
   "source": [
    "div([1,2,3,4,5,6,7,8,9])"
   ]
  },
  {
   "cell_type": "code",
   "execution_count": 6,
   "id": "1ff16668-dd35-4760-8387-8b3d9fb39a88",
   "metadata": {},
   "outputs": [],
   "source": [
    "def divis(numbers):\n",
    "    return [num for num in numbers if num%2==0]"
   ]
  },
  {
   "cell_type": "code",
   "execution_count": 7,
   "id": "ea77dc55-1c26-47aa-a271-a918411d14b8",
   "metadata": {},
   "outputs": [
    {
     "data": {
      "text/plain": [
       "[2, 4, 6, 8]"
      ]
     },
     "execution_count": 7,
     "metadata": {},
     "output_type": "execute_result"
    }
   ],
   "source": [
    "divis([1,2,3,4,5,6,7,8,9])"
   ]
  },
  {
   "cell_type": "code",
   "execution_count": 10,
   "id": "84befa17-8201-493d-bccd-4a028ac44f72",
   "metadata": {},
   "outputs": [
    {
     "data": {
      "text/plain": [
       "tuple"
      ]
     },
     "execution_count": 10,
     "metadata": {},
     "output_type": "execute_result"
    }
   ],
   "source": [
    "a=1,2,3,4,True, \"Hello\"\n",
    "type(a)"
   ]
  },
  {
   "cell_type": "code",
   "execution_count": 11,
   "id": "80967730-0da4-4513-9dc9-1836f964423a",
   "metadata": {},
   "outputs": [],
   "source": [
    "a,b,c,d=1,2,3,True"
   ]
  },
  {
   "cell_type": "code",
   "execution_count": 14,
   "id": "0ae22247-60f5-4f34-aec2-a4e0fdeef327",
   "metadata": {},
   "outputs": [
    {
     "data": {
      "text/plain": [
       "bool"
      ]
     },
     "execution_count": 14,
     "metadata": {},
     "output_type": "execute_result"
    }
   ],
   "source": [
    "type(d)"
   ]
  },
  {
   "cell_type": "code",
   "execution_count": 15,
   "id": "504700ff-e8ae-4dd0-8dec-488f8cd4b65b",
   "metadata": {},
   "outputs": [],
   "source": [
    "def cube(x):\n",
    "    return x*x*x"
   ]
  },
  {
   "cell_type": "code",
   "execution_count": 17,
   "id": "056dd4dc-06b7-4fe1-93b6-0241216f87e7",
   "metadata": {},
   "outputs": [],
   "source": [
    "lambda_cube=lambda x : x*x*x"
   ]
  },
  {
   "cell_type": "code",
   "execution_count": 18,
   "id": "887cdd6d-0c8f-494f-892b-ed79ef3b58bb",
   "metadata": {},
   "outputs": [
    {
     "name": "stdout",
     "output_type": "stream",
     "text": [
      "343\n"
     ]
    }
   ],
   "source": [
    "print(lambda_cube(7))"
   ]
  },
  {
   "cell_type": "code",
   "execution_count": 19,
   "id": "2fdd2342-d907-404d-ab4b-54dec724820c",
   "metadata": {},
   "outputs": [],
   "source": [
    "lambda_multiply = lambda x,y : x*y"
   ]
  },
  {
   "cell_type": "code",
   "execution_count": 20,
   "id": "17ed88d2-81f1-4a85-be31-5c8ee2294f23",
   "metadata": {},
   "outputs": [
    {
     "name": "stdout",
     "output_type": "stream",
     "text": [
      "12\n"
     ]
    }
   ],
   "source": [
    "print(lambda_multiply(3,4))"
   ]
  },
  {
   "cell_type": "code",
   "execution_count": 21,
   "id": "7b55b792-7329-4c09-831f-5ec87cd57a74",
   "metadata": {},
   "outputs": [],
   "source": [
    "def mod_5(x):\n",
    "    \"\"\"This is should be visible in documnettaion of function mod_5\"\"\"\n",
    "    return x%5"
   ]
  },
  {
   "cell_type": "code",
   "execution_count": 23,
   "id": "0dc87182-99e4-43b7-a551-77b507d3bce4",
   "metadata": {},
   "outputs": [
    {
     "data": {
      "text/plain": [
       "'This is should be visible in documnettaion of function mod_5'"
      ]
     },
     "execution_count": 23,
     "metadata": {},
     "output_type": "execute_result"
    }
   ],
   "source": [
    "mod_5.__doc__"
   ]
  },
  {
   "cell_type": "code",
   "execution_count": 24,
   "id": "afd34004-ffc8-45ad-8c06-f01f9fa07a02",
   "metadata": {},
   "outputs": [
    {
     "ename": "TypeError",
     "evalue": "max expected at least 1 argument, got 0",
     "output_type": "error",
     "traceback": [
      "\u001b[1;31m---------------------------------------------------------------------------\u001b[0m",
      "\u001b[1;31mTypeError\u001b[0m                                 Traceback (most recent call last)",
      "Cell \u001b[1;32mIn[24], line 1\u001b[0m\n\u001b[1;32m----> 1\u001b[0m help(\u001b[38;5;28mmax\u001b[39m())\n",
      "\u001b[1;31mTypeError\u001b[0m: max expected at least 1 argument, got 0"
     ]
    }
   ],
   "source": [
    "help(max())"
   ]
  },
  {
   "cell_type": "code",
   "execution_count": 26,
   "id": "e1d19991-8e6b-4d0c-96ba-4156bcc41033",
   "metadata": {},
   "outputs": [
    {
     "name": "stdout",
     "output_type": "stream",
     "text": [
      "which is biggest number?\n",
      "100\n",
      "which is the biggest modulo 5?\n",
      "14\n"
     ]
    }
   ],
   "source": [
    "print(\n",
    "    'which is biggest number?',\n",
    "    max(100,51,14),\n",
    "    'which is the biggest modulo 5?',\n",
    "    max(100,51,14, key=mod_5),\n",
    "    sep='\\n'\n",
    ")"
   ]
  },
  {
   "cell_type": "code",
   "execution_count": 33,
   "id": "d9f9147f-19b4-484e-ada6-79df75f5dbb3",
   "metadata": {},
   "outputs": [
    {
     "name": "stdout",
     "output_type": "stream",
     "text": [
      "3\n",
      "6\n",
      "9\n",
      "12\n",
      "3\n",
      "6\n"
     ]
    }
   ],
   "source": [
    "list2=[1,2,3,4,1,2]\n",
    "list1=list(map(lambda x: x*3, list2))# map function returns iterables,here creating list out of iterable\n",
    "for elment in list1:\n",
    "    print(elment)"
   ]
  },
  {
   "cell_type": "code",
   "execution_count": 34,
   "id": "ac6c1c69-ab34-4ced-b59e-309952b1f4ff",
   "metadata": {},
   "outputs": [
    {
     "name": "stdout",
     "output_type": "stream",
     "text": [
      "9\n",
      "3\n",
      "12\n",
      "6\n"
     ]
    }
   ],
   "source": [
    "list2=[1,2,3,4,1,2]\n",
    "set1=set(map(lambda x: x*3, list2))# map function returns iterables,here creating set out of iterable\n",
    "for elment in set1:\n",
    "    print(elment)"
   ]
  },
  {
   "cell_type": "code",
   "execution_count": 37,
   "id": "7f09b370-4630-4ee8-865b-bf36b4cc8fea",
   "metadata": {},
   "outputs": [],
   "source": [
    "lambda_sqaure=lambda x: x**2"
   ]
  },
  {
   "cell_type": "code",
   "execution_count": 38,
   "id": "895bbd5e-6236-4fc4-974e-81afd6bf2446",
   "metadata": {},
   "outputs": [],
   "source": [
    "def square_fun(x):\n",
    "    return x**2"
   ]
  },
  {
   "cell_type": "code",
   "execution_count": 41,
   "id": "23fc6894-be7d-4df7-8f32-615851ed86c5",
   "metadata": {},
   "outputs": [
    {
     "name": "stdout",
     "output_type": "stream",
     "text": [
      "1\n",
      "4\n",
      "9\n",
      "16\n"
     ]
    }
   ],
   "source": [
    "a=map(square_fun, [1,2,3,4])#map function returns iterable, here we referring the iterable by identifier 'a'\n",
    "for i in a:# iterating through the iterable referred by identifier 'a'\n",
    "    print(i)"
   ]
  },
  {
   "cell_type": "code",
   "execution_count": 44,
   "id": "6c6e106c-e728-47f0-ba85-4cf4d7cc1497",
   "metadata": {},
   "outputs": [
    {
     "name": "stdout",
     "output_type": "stream",
     "text": [
      "0\n",
      "2\n",
      "4\n",
      "6\n",
      "8\n",
      "10\n",
      "12\n",
      "14\n",
      "16\n",
      "18\n"
     ]
    }
   ],
   "source": [
    "lst=range(20)\n",
    "lambda_iseven = lambda x:x%2==0\n",
    "iterable_1=filter(lambda_iseven, lst)# filter takes function which does some test, applies test on iterable and\n",
    "#returns the new iterable\n",
    "for i in iterable_1:\n",
    "    print(i)"
   ]
  },
  {
   "cell_type": "code",
   "execution_count": 45,
   "id": "42cd8c45-4748-494b-b61c-279da2bc275b",
   "metadata": {},
   "outputs": [
    {
     "name": "stdout",
     "output_type": "stream",
     "text": [
      "16\n",
      "18\n"
     ]
    }
   ],
   "source": [
    "lst = range(20)\n",
    "evenlst = filter(lambda x: x>15 and x%2==0, lst)\n",
    "for i in evenlst:\n",
    "    print(i)"
   ]
  },
  {
   "cell_type": "code",
   "execution_count": 47,
   "id": "07824e54-5946-4024-9996-e864213e8de0",
   "metadata": {},
   "outputs": [
    {
     "name": "stdout",
     "output_type": "stream",
     "text": [
      "-9\n",
      "-6\n",
      "-3\n",
      "3\n",
      "6\n",
      "9\n"
     ]
    }
   ],
   "source": [
    "def DivisbleBy_3(a):\n",
    "    \"\"\"this fun return number if it is div by 3\"\"\"\n",
    "    if a %3 ==0:\n",
    "        return a\n",
    "lst = range(-10,10)\n",
    "#print(list(filter(DivisbleBy_3, lst)))\n",
    "for i in filter(DivisbleBy_3, lst):\n",
    "    print(i)"
   ]
  },
  {
   "cell_type": "code",
   "execution_count": 63,
   "id": "f17a3bd5-ef99-41d9-a6ee-872570f8bf0b",
   "metadata": {},
   "outputs": [
    {
     "name": "stdout",
     "output_type": "stream",
     "text": [
      "inside Print -9\n",
      "inside Print -6\n",
      "inside Print -3\n",
      "inside Print 0\n",
      "inside Print 3\n",
      "inside Print 6\n",
      "inside Print 9\n",
      "[]\n"
     ]
    }
   ],
   "source": [
    "#PrintDivisbleBy_3 does not return anything , hence filter method actually returns empty iterable\n",
    "def PrintDivisbleBy_3(a):\n",
    "    \"\"\"this fun return number if it is div by 3\"\"\"\n",
    "    if a %3 ==0:\n",
    "        print('inside Print',a)\n",
    "\n",
    "lst = range(-10,10)\n",
    "lst3=list(filter(PrintDivisbleBy_3, lst))\n",
    "print(lst3)\n",
    "for i in lst3:\n",
    "    print('inside for loop on iteratable')\n",
    "    print(i)"
   ]
  },
  {
   "cell_type": "code",
   "execution_count": 66,
   "id": "8adf220f-c956-4405-a423-de6a858c3c5c",
   "metadata": {},
   "outputs": [
    {
     "name": "stdout",
     "output_type": "stream",
     "text": [
      "[-9, -6, -3, 3, 6, 9]\n",
      "-9\n",
      "-6\n",
      "-3\n",
      "3\n",
      "6\n",
      "9\n"
     ]
    }
   ],
   "source": [
    "#DivisbleBy_3 returns number (non zero number is True in python) , hence filter method returns iterable with all the elements\n",
    "# that satisfy condition and value is returned from  of lst list\n",
    "def DivisbleBy_3(a):\n",
    "    \"\"\"this fun return number if it is div by 3\"\"\"\n",
    "    if a %3 ==0:\n",
    "        return a\n",
    "\n",
    "lst = range(-10,10)\n",
    "lst3=list(filter(DivisbleBy_3, lst))\n",
    "print(lst3)\n",
    "for i in lst3:\n",
    "    print(i)"
   ]
  },
  {
   "cell_type": "code",
   "execution_count": 67,
   "id": "55a7c548-885d-4420-a189-6f4c1dce9ec1",
   "metadata": {},
   "outputs": [
    {
     "name": "stdout",
     "output_type": "stream",
     "text": [
      "[]\n"
     ]
    }
   ],
   "source": [
    "#DivisbleBy_3_Return_0 returns 0 number (zero number is False in python) , hence filter method returns empty iterable \n",
    "\n",
    "def DivisbleBy_3_Return_0(a):\n",
    "    \"\"\"this fun return number if it is div by 3\"\"\"\n",
    "    if a %3 ==0:\n",
    "        return 0\n",
    "lst = range(-10,10)\n",
    "lst3=list(filter(DivisbleBy_3_Return_0, lst))\n",
    "print(lst3)\n",
    "for i in lst3:\n",
    "    print(i)"
   ]
  },
  {
   "cell_type": "code",
   "execution_count": 58,
   "id": "f46dcabc-fa56-4fe2-b679-7948bf1dd8ec",
   "metadata": {},
   "outputs": [
    {
     "data": {
      "text/plain": [
       "{1: 'a', 2: 'b', 3: 'c', 4: 'd'}"
      ]
     },
     "execution_count": 58,
     "metadata": {},
     "output_type": "execute_result"
    }
   ],
   "source": [
    "e=[1,2,3,4,5]\n",
    "f=['a','b','c','d']\n",
    "dict(zip(e,f))"
   ]
  },
  {
   "cell_type": "code",
   "execution_count": 72,
   "id": "e3ad8553-854e-437f-ab60-9f0378126eac",
   "metadata": {},
   "outputs": [
    {
     "name": "stdout",
     "output_type": "stream",
     "text": [
      "[('c', 5), ('e', 5), ('d', 8), ('a', 10), ('b', 20)]\n"
     ]
    }
   ],
   "source": [
    "d = {'a': 10, 'b': 20, 'c': 5, 'd': 8, 'e': 5}\n",
    "# sort by value\n",
    "print(sorted(d.items(), key=lambda x: x[1]))"
   ]
  },
  {
   "cell_type": "code",
   "execution_count": 76,
   "id": "4955a56a-46c2-40ec-bbfe-eb4b97cb10bd",
   "metadata": {},
   "outputs": [
    {
     "name": "stdout",
     "output_type": "stream",
     "text": [
      "[2, 4, 6]\n"
     ]
    }
   ],
   "source": [
    "lst = [1, 2, 3]\n",
    "doubled = [num*2 for num in lst]\n",
    "print(doubled)"
   ]
  },
  {
   "cell_type": "code",
   "execution_count": 77,
   "id": "f5a79990-9d33-417b-8ace-4d748e0e1e70",
   "metadata": {},
   "outputs": [
    {
     "name": "stdout",
     "output_type": "stream",
     "text": [
      "[1, 1]\n"
     ]
    }
   ],
   "source": [
    "d = [1, 2, 1, 3]\n",
    "a = [each for each in d if each==1]\n",
    "print(a)"
   ]
  },
  {
   "cell_type": "code",
   "execution_count": null,
   "id": "142d8fca-6439-43ea-b6d1-5554368bc3f1",
   "metadata": {},
   "outputs": [],
   "source": []
  }
 ],
 "metadata": {
  "kernelspec": {
   "display_name": "Python 3 (ipykernel)",
   "language": "python",
   "name": "python3"
  },
  "language_info": {
   "codemirror_mode": {
    "name": "ipython",
    "version": 3
   },
   "file_extension": ".py",
   "mimetype": "text/x-python",
   "name": "python",
   "nbconvert_exporter": "python",
   "pygments_lexer": "ipython3",
   "version": "3.11.7"
  }
 },
 "nbformat": 4,
 "nbformat_minor": 5
}
