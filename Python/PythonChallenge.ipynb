{
 "cells": [
  {
   "cell_type": "code",
   "execution_count": 12,
   "id": "dda66ec8-7beb-41bc-88a0-40d7e89784b3",
   "metadata": {},
   "outputs": [],
   "source": [
    "productsgst=dict()\n",
    "productsgst.update({0:['Jute',\n",
    "\n",
    "'Fish',\n",
    "'Chicken',\n",
    "'Eggs',\n",
    "'Milk'\n",
    "]})\n",
    "productsgst.update({5:['Sugar',\n",
    "'Tea',\n",
    "'Domestic LPG',\n",
    "'Fabric',\n",
    "'Cashew Nuts'\n",
    "]})\n",
    "productsgst.update({12:['Butter',\n",
    "'Ghee',\n",
    "'Almonds',\n",
    "'Fruit Juice'\n",
    "]})\n",
    "\n",
    "productsgst.update({18:['Hair Oil',\n",
    "'Toothpaste',\n",
    "'Soap',\n",
    "'Corn Flakes'\n",
    "\n",
    "]})\n",
    "productsgst.update({28:['Small cars',\n",
    "'Fridge',\n",
    "'AC',\n",
    "'High End Motor cycle'\n",
    "]})\n",
    "#def gst_calculator(product , price):\n",
    "    "
   ]
  },
  {
   "cell_type": "code",
   "execution_count": 13,
   "id": "01d719cc-a2fa-4e0d-923e-441e98b7d0d9",
   "metadata": {},
   "outputs": [],
   "source": [
    "def gst_calculator(product , price):\n",
    "    for gst, items in productsgst.items():\n",
    "        if(product in items):\n",
    "            return price + (price * gst) /100\n",
    "    return price"
   ]
  },
  {
   "cell_type": "code",
   "execution_count": 16,
   "id": "03f4a9ba-5726-471c-b3d6-2151be388777",
   "metadata": {},
   "outputs": [
    {
     "name": "stdout",
     "output_type": "stream",
     "text": [
      "112.0\n",
      "105.0\n"
     ]
    }
   ],
   "source": [
    "print(gst_calculator('Fruit Juice', 100))\n",
    "print(gst_calculator('Domestic LPG', 100))"
   ]
  },
  {
   "cell_type": "code",
   "execution_count": null,
   "id": "8b4ab310-a0ca-4c83-9aff-d3b2f45c8502",
   "metadata": {},
   "outputs": [],
   "source": []
  }
 ],
 "metadata": {
  "kernelspec": {
   "display_name": "Python 3 (ipykernel)",
   "language": "python",
   "name": "python3"
  },
  "language_info": {
   "codemirror_mode": {
    "name": "ipython",
    "version": 3
   },
   "file_extension": ".py",
   "mimetype": "text/x-python",
   "name": "python",
   "nbconvert_exporter": "python",
   "pygments_lexer": "ipython3",
   "version": "3.11.7"
  }
 },
 "nbformat": 4,
 "nbformat_minor": 5
}
