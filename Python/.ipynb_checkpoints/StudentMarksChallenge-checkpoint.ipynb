{
 "cells": [
  {
   "cell_type": "code",
   "execution_count": 15,
   "id": "72de9725-58d1-4b2b-a29e-1fb9fd07c9d1",
   "metadata": {},
   "outputs": [],
   "source": [
    "import functools\n",
    "students = ['Alice', 'Bob', 'Charlie', 'David', 'Eva']\n",
    "subjects=('Math', 'Science', 'English', 'History')\n",
    "grades = {\n",
    " 'Alice': [90, 85, 92, 88],\n",
    " 'Bob': [78, 95, 80, 70],\n",
    " 'Charlie': [82, 60, 75, 88],\n",
    " 'David': [65, 70, 68, 75],\n",
    " 'Eva': [88, 92, 45, 90]\n",
    "}\n",
    "\n",
    "def average(iterable):\n",
    "    return functools.reduce(lambda x,y : x+y, iterable) / len(iterable)\n",
    "    \n",
    "def average_grade(grades):\n",
    "    return {name: average(stu_grades) for name, stu_grades in grades.items()}\n",
    "   # return student_grades\n",
    "def findSubjectName(index):\n",
    "    return subjects[index]\n",
    "#\n",
    "def highest_grade_subject(grades):\n",
    "    return {name: findSubjectName(stu_grades.index(max(stu_grades))) for name, stu_grades in grades.items()}\n",
    "    \n",
    "def passing_students(grades):\n",
    "    return {name: grades for name, grades in grades.items() if min(grades)>=50}.keys()\n",
    "\n",
    "def subject_wise_performance(grades):\n",
    "    grades_2d_list=list(grades.values())\n",
    "    #print(grades.values())\n",
    "    avg_per_subject=[ sum(eachElement)/len(grades_2d_list) for eachElement in \n",
    "                     [[ grades_2d_list[innerLoopIndex][outerLoopIndex] for innerLoopIndex in range(len(grades_2d_list))] \n",
    "                                                                               for outerLoopIndex in range(len(grades_2d_list[0]))]]\n",
    "    return dict(zip(subjects, avg_per_subject))\n",
    "\n",
    "def students_failed_subject(grades, subject):\n",
    "    subject_index=subjects.index(subject);\n",
    "    return list({name: stu_grades for name, stu_grades in grades.items() if stu_grades[subject_index] < 50}.keys())\n",
    "\n",
    "def overall_performance(grades):\n",
    "    avg_grades_stu=average_grade(grades)\n",
    "    return list(dict(sorted(avg_grades_stu.items(), key= lambda item:item[1], reverse=True)).keys())[0]\n"
   ]
  },
  {
   "cell_type": "code",
   "execution_count": 16,
   "id": "5de14e9a-3449-48b0-8ec6-5fd8ecc6c131",
   "metadata": {},
   "outputs": [
    {
     "name": "stdout",
     "output_type": "stream",
     "text": [
      "\n",
      " Average grades of each student: \n",
      "\n",
      "{'Alice': 88.75, 'Bob': 80.75, 'Charlie': 76.25, 'David': 69.5, 'Eva': 78.75}\n",
      "\n",
      " Highest grade subject of each student: \n",
      "\n",
      "{'Alice': 'English', 'Bob': 'Science', 'Charlie': 'History', 'David': 'History', 'Eva': 'Science'}\n",
      "\n",
      " Passed students: \n",
      "\n",
      "dict_keys(['Alice', 'Bob', 'Charlie', 'David'])\n",
      "\n",
      " Average grades per subject: \n",
      "\n",
      "{'Math': 80.6, 'Science': 80.4, 'English': 72.0, 'History': 82.2}\n",
      "['Eva']\n",
      "Alice\n"
     ]
    }
   ],
   "source": [
    "print(\"\\n Average grades of each student: \\n\")\n",
    "print(average_grade(grades))\n",
    "print(\"\\n Highest grade subject of each student: \\n\")\n",
    "print(highest_grade_subject(grades))\n",
    "print(\"\\n Passed students: \\n\")\n",
    "print(passing_students(grades))\n",
    "print(\"\\n Average grades per subject: \\n\")\n",
    "print(subject_wise_performance(grades))\n",
    "print(students_failed_subject(grades,'English'))\n",
    "print(overall_performance(grades))"
   ]
  },
  {
   "cell_type": "code",
   "execution_count": 43,
   "id": "c99de2a8-d0fc-4f13-9073-1bd716cf9fcf",
   "metadata": {},
   "outputs": [
    {
     "name": "stdout",
     "output_type": "stream",
     "text": [
      "[[90, 85, 92, 88], [78, 95, 80, 70], [82, 60, 75, 88], [65, 70, 68, 75], [88, 92, 45, 90]]\n",
      "5\n",
      "4\n",
      "[[90, 85, 92, 88], [78, 95, 80, 70], [82, 60, 75, 88], [65, 70, 68, 75], [88, 92, 45, 90]]\n",
      "5\n",
      "4\n",
      "[[90, 85, 92, 88], [78, 95, 80, 70], [82, 60, 75, 88], [65, 70, 68, 75], [88, 92, 45, 90]]\n",
      "[[90, 78, 82, 65, 88], [85, 95, 60, 70, 92], [92, 80, 75, 68, 45], [88, 70, 88, 75, 90]]\n",
      "[403, 402, 360, 411]\n",
      "[80.6, 80.4, 72.0, 82.2]\n"
     ]
    }
   ],
   "source": [
    "print(list(grades.values()))\n",
    "print(len(list(grades.values())))\n",
    "print(len(list(grades.values())[0]))\n",
    "_2dlist=list(grades.values())\n",
    "print(_2dlist)\n",
    "m=len(_2dlist)\n",
    "print(m)\n",
    "n=len(_2dlist[0])\n",
    "print(n)\n",
    "[[j for i in range(3)] for j in range(4)]\n",
    "print([[_2dlist[i][j] for j in range(len(_2dlist[0]))] for i in range(len(_2dlist))])\n",
    "print([[_2dlist[j][i] for j in range(len(_2dlist))] for i in range(len(_2dlist[0]))])\n",
    "print([sum(x) for x in [[_2dlist[j][i] for j in range(len(_2dlist))] for i in range(len(_2dlist[0]))]])\n",
    "print([sum(x)/len(_2dlist) for x in [[_2dlist[j][i] for j in range(len(_2dlist))] for i in range(len(_2dlist[0]))]])\n"
   ]
  },
  {
   "cell_type": "code",
   "execution_count": null,
   "id": "1ecfad7e-67d3-493b-b076-7d42bcb94737",
   "metadata": {},
   "outputs": [],
   "source": []
  }
 ],
 "metadata": {
  "kernelspec": {
   "display_name": "Python 3 (ipykernel)",
   "language": "python",
   "name": "python3"
  },
  "language_info": {
   "codemirror_mode": {
    "name": "ipython",
    "version": 3
   },
   "file_extension": ".py",
   "mimetype": "text/x-python",
   "name": "python",
   "nbconvert_exporter": "python",
   "pygments_lexer": "ipython3",
   "version": "3.11.7"
  }
 },
 "nbformat": 4,
 "nbformat_minor": 5
}
