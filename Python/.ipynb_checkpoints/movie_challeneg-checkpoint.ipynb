{
 "cells": [
  {
   "cell_type": "code",
   "execution_count": 7,
   "id": "42640086-f28b-454b-a3e1-e8be4d808240",
   "metadata": {},
   "outputs": [],
   "source": [
    "movie_ratings=dict()\n",
    "def add_movie_rating(movie, rating):\n",
    "    movie_ratings[movie]=rating"
   ]
  },
  {
   "cell_type": "code",
   "execution_count": 8,
   "id": "8a461d7a-a0ab-4e5d-b830-abd9239f4ed2",
   "metadata": {},
   "outputs": [],
   "source": [
    "def get_average_rating():\n",
    "    sum=0;\n",
    "    for rating in movie_ratings.values():\n",
    "        sum=sum+rating\n",
    "    return sum/len(movie_ratings)"
   ]
  },
  {
   "cell_type": "code",
   "execution_count": 9,
   "id": "086dd28a-4b75-44dd-ae8d-4e20237e50cc",
   "metadata": {},
   "outputs": [],
   "source": [
    "def find_highest_rated_movie():\n",
    "    max_rating=max(movie_ratings.values())\n",
    "    for movie,rating in movie_ratings.items():\n",
    "        if(rating==max_rating):\n",
    "            return movie"
   ]
  },
  {
   "cell_type": "code",
   "execution_count": 10,
   "id": "f6aaa8af-44a7-4ee8-aae3-7baaa6ee76db",
   "metadata": {},
   "outputs": [],
   "source": [
    "def recommend_movie(moviesWithrating):\n",
    "    recommandation={'Must Watch!':[], 'Recommended':[], 'Consider Later':[]}\n",
    "    for movie,rating in moviesWithrating.items():\n",
    "        if(rating >=8.5):\n",
    "            recommandation['Must Watch!'].append(movie)\n",
    "        elif(rating >7.0 and rating <8.5):\n",
    "            #print(recommandation['Recommended'])\n",
    "            recommandation['Recommended'].append(movie)\n",
    "        else:\n",
    "            #print(recommandation['Consider Later'])\n",
    "            recommandation['Consider Later'].append(movie)\n",
    "    for recomd in recommandation.keys():\n",
    "        if(recomd=='Must Watch!'):\n",
    "            print('Here are the must watch movies! ', recommandation.get(recomd))\n",
    "            break\n",
    "        elif(recomd=='Recommended'):\n",
    "            print('Here are the Recommended movies ', recommandation.get(recomd))\n",
    "        else:\n",
    "            print('Here are the movies, you can consider ', recommandation.get(recomd))"
   ]
  },
  {
   "cell_type": "code",
   "execution_count": 16,
   "id": "9b630b4f-5cae-4ee6-911a-aeacce7284cf",
   "metadata": {},
   "outputs": [],
   "source": [
    "import time\n",
    "def main():\n",
    "    print(\"Enter 5 movies and its rating\")\n",
    "    index =0\n",
    "    while(index<5):\n",
    "        movie=str(input(\"Enter movie name\"))\n",
    "        rating=float(input(\"Enter movie rating\"))\n",
    "        add_movie_rating(movie, rating)\n",
    "        index=index+1\n",
    "    time.sleep(2)\n",
    "    print(\"Here's the average rating: \", get_average_rating())\n",
    "    time.sleep(2)\n",
    "    print(\"Here's the highest rated movie: \",find_highest_rated_movie())\n",
    "    time.sleep(2)\n",
    "    print(\"Here are the movie recommandations: \")\n",
    "    recommend_movie(movie_ratings)"
   ]
  },
  {
   "cell_type": "code",
   "execution_count": 15,
   "id": "094e7831-7961-4b26-a5c4-0b00cb36d769",
   "metadata": {},
   "outputs": [
    {
     "name": "stdout",
     "output_type": "stream",
     "text": [
      "Enter 5 movies and its rating\n"
     ]
    },
    {
     "name": "stdin",
     "output_type": "stream",
     "text": [
      "Enter movie name Avengers: Endgame\n",
      "Enter movie rating 9.2\n",
      "Enter movie name The Shawshank Redemption\n",
      "Enter movie rating 8.7\n",
      "Enter movie name Inception\n",
      "Enter movie rating 8.9\n",
      "Enter movie name Jurassic Park\n",
      "Enter movie rating 7.5\n",
      "Enter movie name Twilight\n",
      "Enter movie rating 5.3\n"
     ]
    },
    {
     "name": "stdout",
     "output_type": "stream",
     "text": [
      "Here's the average rating:  8.1\n",
      "Here's the highest rated movie Avengers: Endgame\n",
      "Here are the movie recommandations\n",
      "[]\n",
      "[]\n",
      "Here are the must watch movies!  ['Avengers: Endgame', 'The Shawshank Redemption', 'Inception', '1971']\n"
     ]
    }
   ],
   "source": [
    "main()"
   ]
  },
  {
   "cell_type": "code",
   "execution_count": null,
   "id": "3dbbacc7-0664-4777-bf07-6601d32c99e9",
   "metadata": {},
   "outputs": [],
   "source": []
  }
 ],
 "metadata": {
  "kernelspec": {
   "display_name": "Python 3 (ipykernel)",
   "language": "python",
   "name": "python3"
  },
  "language_info": {
   "codemirror_mode": {
    "name": "ipython",
    "version": 3
   },
   "file_extension": ".py",
   "mimetype": "text/x-python",
   "name": "python",
   "nbconvert_exporter": "python",
   "pygments_lexer": "ipython3",
   "version": "3.11.7"
  }
 },
 "nbformat": 4,
 "nbformat_minor": 5
}
