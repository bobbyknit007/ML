{
 "cells": [
  {
   "cell_type": "code",
   "execution_count": 2,
   "id": "26ed1f4b-acd5-46fd-ad73-5e6b200b288f",
   "metadata": {},
   "outputs": [
    {
     "name": "stdin",
     "output_type": "stream",
     "text": [
      "Eter number 6\n"
     ]
    },
    {
     "name": "stdout",
     "output_type": "stream",
     "text": [
      "6 is greater than 5\n"
     ]
    }
   ],
   "source": [
    "x = int(input(\"Enter number\"))\n",
    "if x >5:\n",
    "    print(f\"{x} is greater than 5\")"
   ]
  },
  {
   "cell_type": "code",
   "execution_count": 6,
   "id": "e961f2a3-d597-4680-abfe-98d7d00d95c7",
   "metadata": {},
   "outputs": [],
   "source": [
    "a = False\n",
    "if a :\n",
    "    print(\"Hello\")"
   ]
  },
  {
   "cell_type": "code",
   "execution_count": 9,
   "id": "239878dc-0d92-462f-a2e0-f96dbf717f4c",
   "metadata": {},
   "outputs": [
    {
     "data": {
      "text/plain": [
       "0"
      ]
     },
     "execution_count": 9,
     "metadata": {},
     "output_type": "execute_result"
    }
   ],
   "source": [
    "dict ={\"1\":\"A\"}\n",
    "len(dict)\n",
    "del dict[\"1\"]\n",
    "len(dict)"
   ]
  },
  {
   "cell_type": "code",
   "execution_count": 10,
   "id": "40d26d02-87de-4064-98bb-9ca3b43189f3",
   "metadata": {},
   "outputs": [
    {
     "name": "stdout",
     "output_type": "stream",
     "text": [
      "<class 'dict'>\n"
     ]
    }
   ],
   "source": [
    "d={}\n",
    "print(type(d))"
   ]
  },
  {
   "cell_type": "code",
   "execution_count": 11,
   "id": "fbe7e011-275f-43d9-a41b-b5a40bed12a1",
   "metadata": {},
   "outputs": [
    {
     "name": "stdin",
     "output_type": "stream",
     "text": [
      "Enter a numer 15\n"
     ]
    },
    {
     "name": "stdout",
     "output_type": "stream",
     "text": [
      "15  is disvible by both 3 & 5 \n",
      "we understood if-else\n"
     ]
    }
   ],
   "source": [
    "a = int(input(\"Enter a numer\"))\n",
    "if a %3 ==0 and a %5 ==0:\n",
    "    print(a,\" is disvible by both 3 & 5 \")\n",
    "else:\n",
    "     print(a,\" is NOT disvible by both 3, wont check for 5  \")\n",
    "print(\"we understood if-else\")"
   ]
  },
  {
   "cell_type": "code",
   "execution_count": 13,
   "id": "a8d584c6-96fd-4303-87d2-bd2902153607",
   "metadata": {},
   "outputs": [
    {
     "name": "stdin",
     "output_type": "stream",
     "text": [
      "Enter your age: 17\n"
     ]
    },
    {
     "name": "stdout",
     "output_type": "stream",
     "text": [
      "Sit at home and watch cartoon\n"
     ]
    }
   ],
   "source": [
    "age = int(input(\"Enter your age:\"))\n",
    "if ( age >=18):\n",
    "    print(\"Kindly vote\")\n",
    "else:\n",
    "    print(\"Sit at home and watch cartoon\")"
   ]
  },
  {
   "cell_type": "code",
   "execution_count": 19,
   "id": "11d32ca1-518e-4a59-8efd-3a0b9c2d9488",
   "metadata": {},
   "outputs": [
    {
     "name": "stdin",
     "output_type": "stream",
     "text": [
      "Enter chacter: X\n"
     ]
    },
    {
     "name": "stdout",
     "output_type": "stream",
     "text": [
      "its consonant\n"
     ]
    }
   ],
   "source": [
    "vowel ={'a','e','i','o','u'}\n",
    "char = str(input(\"Enter chacter:\")).lower()\n",
    "if( char in vowel):\n",
    "    print(\"you entered vowel\")\n",
    "else:\n",
    "    print(\"its consonant\")"
   ]
  },
  {
   "cell_type": "code",
   "execution_count": 30,
   "id": "6b17fc2e-89bf-47f5-826d-e0e403a4703c",
   "metadata": {},
   "outputs": [
    {
     "name": "stdin",
     "output_type": "stream",
     "text": [
      "Enter char abc\n"
     ]
    }
   ],
   "source": [
    "char = str(input(\"Enter char\"))\n",
    "if(char[0].isupper()):\n",
    "    print(\"Capital letter input\")"
   ]
  },
  {
   "cell_type": "code",
   "execution_count": 41,
   "id": "41e0a119-2712-4e6a-b27b-f93066e5f5d1",
   "metadata": {},
   "outputs": [
    {
     "name": "stdin",
     "output_type": "stream",
     "text": [
      "Enter number 29\n"
     ]
    },
    {
     "name": "stdout",
     "output_type": "stream",
     "text": [
      "NOT number divisble by 3\n"
     ]
    }
   ],
   "source": [
    "num = int((input(\"Enter number\")))\n",
    "if num % 3 ==0:\n",
    "\n",
    "elif num % 5 !=0:\n",
    "    print(\"NOT num divisble by 5\")\n",
    "else:\n",
    "    print(\"both by 3 and by 5\")"
   ]
  },
  {
   "cell_type": "code",
   "execution_count": 47,
   "id": "353861b2-3b28-42d8-a7ab-93297994b139",
   "metadata": {},
   "outputs": [
    {
     "name": "stdin",
     "output_type": "stream",
     "text": [
      "Enter number 12\n"
     ]
    },
    {
     "name": "stdout",
     "output_type": "stream",
     "text": [
      "12 is positive\n"
     ]
    }
   ],
   "source": [
    "# check num is positive, negative or zero\n",
    "num = int(input(\"Enter number\"))\n",
    "if(num ==0):\n",
    "    print(num , \" is zero\")\n",
    "elif num <0:\n",
    "    print(num, \"is negative\")\n",
    "else:\n",
    "   print(num, \"is positive\")"
   ]
  },
  {
   "cell_type": "code",
   "execution_count": 53,
   "id": "b5c2154d-c560-4c02-829c-2b62e1499413",
   "metadata": {},
   "outputs": [
    {
     "name": "stdin",
     "output_type": "stream",
     "text": [
      "Enter subject1 marks: 100\n",
      "Enter subject2 marks: 100\n",
      "Enter subject3 marks: 100\n",
      "Enter subject4 marks: 99\n"
     ]
    },
    {
     "name": "stdout",
     "output_type": "stream",
     "text": [
      "Kindly go to another planet\n"
     ]
    }
   ],
   "source": [
    "subject1 = int(input(\"Enter subject1 marks:\"))\n",
    "subject2 = int(input(\"Enter subject2 marks:\"))\n",
    "subject3 = int(input(\"Enter subject3 marks:\"))\n",
    "subject4 = int(input(\"Enter subject4 marks:\"))\n",
    "total = subject1+subject2+subject3+subject4\n",
    "percentage = (total/400)*100\n",
    "if(percentage > 99):\n",
    "    print(\"Kindly go to another planet\")\n",
    "elif(percentage < 99 and percentage > 90):\n",
    "    print(\"People expected more , Why can't you get more ???\")\n",
    "elif(percentage <90 and percentage >80):\n",
    "    print(\"you look normal , no cheating\")\n",
    "else:\n",
    "    print(\"you will performance improvment report :)\")"
   ]
  },
  {
   "cell_type": "markdown",
   "id": "5e5c70cf-2e20-488f-8ee9-0e2c69ccf8ca",
   "metadata": {},
   "source": [
    "\"\"\"the company decided to give bonus of 5% to employee if his/her year of service is more than 5 years.\n",
    " ask user their salary and year of service , print net bonus amount\n",
    " \"\"\"\n",
    "take length, breadth of rectangle from user , check if it sqaure or not \n",
    "take input of age of 3 people from user , determine , youngest , oldest among them\n",
    "a student wont be allowed to sit in exam, if his/her attenadace is less than 75%,. take following input from user , \n",
    "number of classes held, number of clases attended and print % of class attended , is student allowed to sit ine xam \n",
    "modify the above question to allow student to sit if he/has medical cause or not , e.g yes or no, and print accordingly"
   ]
  },
  {
   "cell_type": "code",
   "execution_count": 3,
   "id": "6909d55e-04be-4525-a245-a8f7c4ab39a4",
   "metadata": {},
   "outputs": [
    {
     "name": "stdin",
     "output_type": "stream",
     "text": [
      "Enter your salary: 1800.35\n",
      "Enter your serviceperiod in years: 5\n"
     ]
    },
    {
     "name": "stdout",
     "output_type": "stream",
     "text": [
      " you are not eligible for bonus amount\n"
     ]
    }
   ],
   "source": [
    "salary = float(input(\"Enter your salary:\"))\n",
    "serviceperiod = int(input(\"Enter your serviceperiod in years:\"))\n",
    "if(serviceperiod >5):\n",
    "    bonusamount = (salary*5)/100\n",
    "    print(f\" you are eligible for bonus worth {bonusamount} Rs\")\n",
    "else:\n",
    "    print(\" you are not eligible for bonus amount\")"
   ]
  },
  {
   "cell_type": "code",
   "execution_count": 5,
   "id": "ef220bba-1bb1-492c-a024-c5ea91dffea6",
   "metadata": {},
   "outputs": [
    {
     "name": "stdin",
     "output_type": "stream",
     "text": [
      "Enter length: 2\n",
      "Enter breadth: 3\n"
     ]
    },
    {
     "name": "stdout",
     "output_type": "stream",
     "text": [
      "Its a rectangle\n"
     ]
    }
   ],
   "source": [
    "length = int(input(\"Enter length:\"))\n",
    "breadth = int(input(\"Enter breadth:\"))\n",
    "if(length == breadth):\n",
    "    print(\"It's a sqaure\")\n",
    "else:\n",
    "    print(\"Its a rectangle\")"
   ]
  },
  {
   "cell_type": "code",
   "execution_count": 8,
   "id": "1578f295-7825-4a50-afe0-6b7e2bf271d3",
   "metadata": {},
   "outputs": [
    {
     "name": "stdin",
     "output_type": "stream",
     "text": [
      "Enter age1: 12\n",
      "Enter age2: 12\n",
      "Enter age3: 19\n"
     ]
    },
    {
     "name": "stdout",
     "output_type": "stream",
     "text": [
      " youngest is of age 12 and eldest is of age 19\n"
     ]
    }
   ],
   "source": [
    "age1 = int(input(\"Enter age1:\"))\n",
    "age2 = int(input(\"Enter age2:\"))\n",
    "age3 = int(input(\"Enter age3:\"))\n",
    "if(age1==age2==age3):\n",
    "    print(\"All are of equal age\")\n",
    "else:\n",
    "    ages=[age1, age2, age3]\n",
    "    ages.sort();\n",
    "    print(f\" youngest is of age {ages[0]} and eldest is of age {ages[2]}\")\n",
    "\n"
   ]
  },
  {
   "cell_type": "code",
   "execution_count": 15,
   "id": "7edd5c3d-324e-4c77-8464-5a32710cbb34",
   "metadata": {},
   "outputs": [
    {
     "name": "stdin",
     "output_type": "stream",
     "text": [
      "Total classes held 100\n",
      "Total classes attended 100\n",
      "Did you have medical cause ? yes or no yes\n"
     ]
    },
    {
     "name": "stdout",
     "output_type": "stream",
     "text": [
      "you are allowed to write exam\n"
     ]
    }
   ],
   "source": [
    "no_of_classes_held = int(input(\"Total classes held\"))\n",
    "no_of_classes_attended = int(input(\"Total classes attended\"))\n",
    "medical_cause =str(input(\"Did you have medical cause ? yes or no\")).lower()\n",
    "percentage_of_classes_attended= (no_of_classes_attended/no_of_classes_held)*100\n",
    "if(percentage_of_classes_attended >75):\n",
    "    print(\"you are allowed to write exam\")\n",
    "elif(percentage_of_classes_attended <75 and medical_cause =='yes'):\n",
    "    print(\"You are allowed to write exam\")\n",
    "else:\n",
    "    print(\"Sorry, you are not allowed to write exam\")"
   ]
  },
  {
   "cell_type": "code",
   "execution_count": null,
   "id": "fcaa669a-7181-48d2-9b41-3feee09d6b35",
   "metadata": {},
   "outputs": [],
   "source": []
  }
 ],
 "metadata": {
  "kernelspec": {
   "display_name": "Python 3 (ipykernel)",
   "language": "python",
   "name": "python3"
  },
  "language_info": {
   "codemirror_mode": {
    "name": "ipython",
    "version": 3
   },
   "file_extension": ".py",
   "mimetype": "text/x-python",
   "name": "python",
   "nbconvert_exporter": "python",
   "pygments_lexer": "ipython3",
   "version": "3.11.7"
  }
 },
 "nbformat": 4,
 "nbformat_minor": 5
}
