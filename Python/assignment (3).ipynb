{
 "cells": [
  {
   "cell_type": "code",
   "execution_count": null,
   "id": "f6c2c62e-1439-43ef-95fd-f22a503aafdb",
   "metadata": {
    "id": "f6c2c62e-1439-43ef-95fd-f22a503aafdb",
    "outputId": "6110572f-63e9-48eb-fd88-6b942c0a944d"
   },
   "outputs": [
    {
     "name": "stdin",
     "output_type": "stream",
     "text": [
      "Enter your num: 7\n"
     ]
    },
    {
     "name": "stdout",
     "output_type": "stream",
     "text": [
      "Its odd  7\n"
     ]
    }
   ],
   "source": [
    "#Even Odd\n",
    "num = int(input(\"Enter your num:\"))\n",
    "if ( num%2==0):\n",
    "    print(\"Its even \", num)\n",
    "else:\n",
    "     print(\"Its odd \", num)"
   ]
  },
  {
   "cell_type": "code",
   "execution_count": null,
   "id": "61766015-81fd-420d-9675-6314b152cb7e",
   "metadata": {
    "id": "61766015-81fd-420d-9675-6314b152cb7e",
    "outputId": "b6c02d5d-cf08-485c-ddc0-5b572b6325b9"
   },
   "outputs": [
    {
     "name": "stdin",
     "output_type": "stream",
     "text": [
      "Enter number 10\n"
     ]
    },
    {
     "name": "stdout",
     "output_type": "stream",
     "text": [
      "10 is positive\n"
     ]
    }
   ],
   "source": [
    "# check num is positive, negative or zero\n",
    "num = int(input(\"Enter number\"))\n",
    "if(num ==0):\n",
    "    print(num , \" is zero\")\n",
    "elif num <0:\n",
    "    print(num, \"is negative\")\n",
    "else:\n",
    "   print(num, \"is positive\")"
   ]
  },
  {
   "cell_type": "code",
   "execution_count": null,
   "id": "ccee760d-cc03-4331-9ed0-e70a8d6378de",
   "metadata": {
    "id": "ccee760d-cc03-4331-9ed0-e70a8d6378de",
    "outputId": "3b250156-be63-489b-d80d-38f91a949a40"
   },
   "outputs": [
    {
     "name": "stdin",
     "output_type": "stream",
     "text": [
      "Enter year 2024\n"
     ]
    },
    {
     "name": "stdout",
     "output_type": "stream",
     "text": [
      "2024  is a leap year\n"
     ]
    }
   ],
   "source": [
    "# Leap year\n",
    "year = int(input(\"Enter year\"))\n",
    "if(year %4 ==0 and year % 100 !=0):\n",
    "    print(year,\" is a leap year\")\n",
    "elif(year %4 ==0 and year % 100 ==0 and year % 400 ==0):\n",
    "    print(year,\" is a leap year\")\n",
    "else:\n",
    "    print(year,\" is not a leap year\")"
   ]
  },
  {
   "cell_type": "code",
   "execution_count": null,
   "id": "ba5b534c-0f82-4a2f-8542-33afe568ebf5",
   "metadata": {
    "id": "ba5b534c-0f82-4a2f-8542-33afe568ebf5",
    "outputId": "d73293b5-57f2-4c30-bb78-2dc66091ec3f"
   },
   "outputs": [
    {
     "name": "stdin",
     "output_type": "stream",
     "text": [
      "Enter chacter: x\n"
     ]
    },
    {
     "name": "stdout",
     "output_type": "stream",
     "text": [
      "its consonant\n"
     ]
    }
   ],
   "source": [
    "#vowel and consonant\n",
    "vowel ={'a','e','i','o','u'}\n",
    "char = str(input(\"Enter chacter:\")).lower()\n",
    "if( char in vowel):\n",
    "    print(\"you entered vowel\")\n",
    "else:\n",
    "    print(\"its consonant\")"
   ]
  },
  {
   "cell_type": "code",
   "execution_count": null,
   "id": "4e419d60-dcc1-4150-8985-087738a9ca4f",
   "metadata": {
    "id": "4e419d60-dcc1-4150-8985-087738a9ca4f",
    "outputId": "b04e9a1a-c77e-4870-eb86-98ab59cb6935"
   },
   "outputs": [
    {
     "name": "stdin",
     "output_type": "stream",
     "text": [
      "enter number 99\n"
     ]
    },
    {
     "name": "stdout",
     "output_type": "stream",
     "text": [
      "99  not  prime\n"
     ]
    }
   ],
   "source": [
    "#prime number\n",
    "a = int(input(\"enter number\"))\n",
    "if a < 2:\n",
    "    print(\"Not a prime\")\n",
    "else:\n",
    "    prime = True\n",
    "    for i in range(2,a):\n",
    "        if a%i ==0:\n",
    "            prime = False\n",
    "            break\n",
    "    if prime:\n",
    "        print(a,\" is prime\")\n",
    "    else:\n",
    "        print(a,\" not  prime\")"
   ]
  },
  {
   "cell_type": "code",
   "execution_count": null,
   "id": "bc9405c8-eff0-4b2d-838d-b72c5e9696f2",
   "metadata": {
    "id": "bc9405c8-eff0-4b2d-838d-b72c5e9696f2",
    "outputId": "d6545117-fea5-45ff-f2b6-c74fd6fac37b"
   },
   "outputs": [
    {
     "name": "stdin",
     "output_type": "stream",
     "text": [
      "Enter string helloxleh\n"
     ]
    },
    {
     "name": "stdout",
     "output_type": "stream",
     "text": [
      "l x\n",
      "helloxleh is NOT palindrome\n"
     ]
    }
   ],
   "source": [
    "#palindrome\n",
    "text=str(input(\"Enter string\"))\n",
    "isPalindrome= True\n",
    "midindex=int(len(text)/2)\n",
    "lastindex=len(text)-1\n",
    "for i in range(midindex + 1):\n",
    "    if(text[i]!=text[lastindex-i]):\n",
    "       isPalindrome= False\n",
    "       print(text[i], text[lastindex-i])\n",
    "       print(text, \"is NOT palindrome\")\n",
    "       break\n",
    "if isPalindrome:\n",
    "    print(text, \"is palindrome\")"
   ]
  },
  {
   "cell_type": "code",
   "execution_count": null,
   "id": "e0533b2f-a7a7-4d68-88a9-b1632f0e9050",
   "metadata": {
    "id": "e0533b2f-a7a7-4d68-88a9-b1632f0e9050",
    "outputId": "980dab02-26e5-486d-fd17-ef5eddc16c5e"
   },
   "outputs": [
    {
     "name": "stdin",
     "output_type": "stream",
     "text": [
      "Enter num1 -1\n",
      "Enter num2 10\n",
      "Enter num3 2\n"
     ]
    },
    {
     "name": "stdout",
     "output_type": "stream",
     "text": [
      "highest  10\n",
      "smallest -1\n"
     ]
    }
   ],
   "source": [
    "#find smallest, highest among 3 given numbers\n",
    "num1=int(input(\"Enter num1\"))\n",
    "num2=int(input(\"Enter num2\"))\n",
    "num3=int(input(\"Enter num3\"))\n",
    "li=[num1, num2, num3]\n",
    "li.sort()\n",
    "if(li[0] != li[2]):\n",
    "    print(\"highest \",li[2])\n",
    "    print(\"smallest\", li[0])\n",
    "else:\n",
    "    print(\"all equals\")"
   ]
  },
  {
   "cell_type": "code",
   "execution_count": null,
   "id": "d62cd080-9f10-4a04-add8-948b6ae62f3d",
   "metadata": {
    "id": "d62cd080-9f10-4a04-add8-948b6ae62f3d",
    "outputId": "9c609905-9a74-4218-caf9-f3edd106c262"
   },
   "outputs": [
    {
     "name": "stdout",
     "output_type": "stream",
     "text": [
      "sum  45\n",
      "multiplication  362880\n",
      "min  1\n",
      "max  9\n"
     ]
    }
   ],
   "source": [
    "#sum, multiplication, max, min of numbers in a list\n",
    "li=[1,2,3,4,5,6,7,8,9]\n",
    "_sum=0\n",
    "_multiplication=1;\n",
    "_min=li[0]\n",
    "_max=li[0]\n",
    "for x in li:\n",
    "    _sum+=x\n",
    "    _multiplication*=x\n",
    "    if _min >x:\n",
    "        _min=x\n",
    "    if _max <x:\n",
    "        _max=x\n",
    "print(\"sum \", _sum)\n",
    "print(\"multiplication \", _multiplication)\n",
    "print(\"min \", _min)\n",
    "print(\"max \", _max)"
   ]
  },
  {
   "cell_type": "code",
   "execution_count": 1,
   "id": "7ae85795-71d1-4673-9f20-5b0bce3a706b",
   "metadata": {
    "colab": {
     "base_uri": "https://localhost:8080/",
     "height": 211
    },
    "id": "7ae85795-71d1-4673-9f20-5b0bce3a706b",
    "outputId": "3835f619-1767-40db-dbee-a187ba92f72e"
   },
   "outputs": [
    {
     "name": "stdout",
     "output_type": "stream",
     "text": [
      "not last 0\n",
      "not last 2\n",
      "not last 4\n",
      "last 6\n",
      "second max element :  4  in list:  [1, 2, 3, 4, 6, 6, 6]\n"
     ]
    }
   ],
   "source": [
    "#find second max element\n",
    "#li=[1,2,3,4,5,5,9,10,0,11,12]\n",
    "li=[1,2,3,4,6,6,6]\n",
    "#li=[12,11,10,9,8,5]\n",
    "_max=-100 # take most negative value\n",
    "_sec_max=-100 # take most negative value\n",
    "i=0;\n",
    "while i<len(li):\n",
    "    if(i==len(li)-1):#last index\n",
    "        print(\"last\",i)\n",
    "        if(li[i]>_max):\n",
    "           _sec_max=_max\n",
    "           _max=li[i]\n",
    "        elif(li[i]>_sec_max):\n",
    "           _sec_max=li[i]\n",
    "        i=i+1\n",
    "    else:\n",
    "        print(\"not last\",i)\n",
    "        # consider two consecutive elements, find smaller and bigger and apply logic\n",
    "        if(li[i]>li[i+1]):\n",
    "            if(li[i]>_max):\n",
    "                _sec_max=_max\n",
    "                _max=li[i];\n",
    "            if(li[i+1]>_sec_max and li[i+1]<_max):\n",
    "                _sec_max=li[i+1]\n",
    "        elif(li[i]<li[i+1]):\n",
    "            if(li[i+1]>_max):\n",
    "                _sec_max=_max\n",
    "                _max=li[i+1];\n",
    "            if(li[i]>_sec_max and li[i]<_max):\n",
    "                _sec_max=li[i]\n",
    "        i=i+2;\n",
    "\n",
    "print(\"second max element : \",_sec_max, \" in list: \", li )\n",
    "\n",
    "\n",
    "\n"
   ]
  },
  {
   "cell_type": "code",
   "execution_count": null,
   "id": "a835d0b4-5985-4bb2-8eb1-a749aa4e5b22",
   "metadata": {
    "id": "a835d0b4-5985-4bb2-8eb1-a749aa4e5b22",
    "outputId": "0996f772-9ac8-4ddd-f4d5-d72c9c2672bc"
   },
   "outputs": [
    {
     "name": "stdout",
     "output_type": "stream",
     "text": [
      "not last 0\n",
      "not last 2\n",
      "not last 4\n",
      "second min element :  8  in list:  [12, 11, 10, 9, 8, 5]\n"
     ]
    }
   ],
   "source": [
    "#find second min element\n",
    "#li=[1,2,3,4,5,5,9,10,0,11,12]\n",
    "#li=[1,2,3,4,6,6,6]\n",
    "li=[12,11,10,9,8,5]\n",
    "_min=100 # take most postive value\n",
    "_sec_min=100 # take most postive value\n",
    "i=0;\n",
    "while i<len(li):\n",
    "    if(i==len(li)-1):#last index\n",
    "        print(\"last\",i)\n",
    "        if(li[i]<_min):\n",
    "           _sec_min=_min\n",
    "           _min=li[i]\n",
    "        elif(li[i]<_sec_min):\n",
    "           _sec_min=li[i]\n",
    "        i=i+1\n",
    "    else:\n",
    "        print(\"not last\",i)\n",
    "        # consider two consecutive elements, find smaller and bigger and apply logic\n",
    "        if(li[i]<li[i+1]):\n",
    "            if(li[i]<_min):\n",
    "                _sec_min=_min\n",
    "                _min=li[i];\n",
    "            if(li[i+1]<_sec_min and li[i+1]>_min):\n",
    "                _sec_min=li[i+1]\n",
    "        elif(li[i]>li[i+1]):\n",
    "            if(li[i+1]<_min):\n",
    "                _sec_min=_min\n",
    "                _min=li[i+1];\n",
    "            if(li[i]<_sec_min and li[i]>_min):\n",
    "                _sec_min=li[i]\n",
    "        i=i+2;\n",
    "\n",
    "print(\"second min element : \",_sec_min, \" in list: \", li )"
   ]
  },
  {
   "cell_type": "code",
   "execution_count": null,
   "id": "dff43fa6-c057-4b43-b165-6cd15f3a702b",
   "metadata": {
    "colab": {
     "base_uri": "https://localhost:8080/"
    },
    "id": "dff43fa6-c057-4b43-b165-6cd15f3a702b",
    "outputId": "c71413d9-f68c-4f56-c773-275fca7fa35b"
   },
   "outputs": [
    {
     "name": "stdout",
     "output_type": "stream",
     "text": [
      "Enter number30\n",
      "prime numbers from 1 to  30  are :  [2, 3, 5, 7, 11, 13, 17, 19, 23, 29]\n"
     ]
    }
   ],
   "source": [
    "#  find all prime numbers in range\n",
    "a = int(input(\"Enter number\"))\n",
    "result=[]\n",
    "for x in range(1,a+1):\n",
    "    prime = True\n",
    "    if(x <2):\n",
    "      prime = False\n",
    "    else:\n",
    "      for i in range(2,x):\n",
    "        if(x%i==0):\n",
    "          prime = False\n",
    "          break;\n",
    "    if(prime):\n",
    "        result.append(x)\n",
    "print(\"prime numbers from 1 to \",a, \" are : \",result)\n"
   ]
  },
  {
   "cell_type": "code",
   "execution_count": 2,
   "id": "ra0lpcw5i9CB",
   "metadata": {
    "colab": {
     "base_uri": "https://localhost:8080/",
     "height": 245
    },
    "id": "ra0lpcw5i9CB",
    "outputId": "232cab59-4019-460f-fd2d-ad1ee38aff31"
   },
   "outputs": [
    {
     "name": "stdin",
     "output_type": "stream",
     "text": [
      "Enter string hello\n"
     ]
    },
    {
     "name": "stdout",
     "output_type": "stream",
     "text": [
      "reversed string:  olleh  original : hello\n"
     ]
    }
   ],
   "source": [
    "#reverse a string\n",
    "string=str(input(\"Enter string\"))\n",
    "index=len(string)-1;\n",
    "reverse='';\n",
    "while index>=0:\n",
    "  reverse+=string[index]\n",
    "  index-=1;\n",
    "print(\"reversed string: \",reverse, \" original :\",string)\n",
    "\n"
   ]
  },
  {
   "cell_type": "code",
   "execution_count": 40,
   "id": "sZE0om3Yk3Yw",
   "metadata": {
    "colab": {
     "base_uri": "https://localhost:8080/"
    },
    "id": "sZE0om3Yk3Yw",
    "outputId": "0f9c1c7c-95b0-4172-ea90-429218bca88e"
   },
   "outputs": [
    {
     "name": "stdout",
     "output_type": "stream",
     "text": [
      "Enter stringhell\n",
      "vowel_count  1  consonant_count  3\n"
     ]
    }
   ],
   "source": [
    "# vowel and consonant count\n",
    "string=str(input(\"Enter string\"))\n",
    "vowels={'a','e','i','o','u'}\n",
    "vowel_count=0\n",
    "consonant_count=0\n",
    "for element in string:\n",
    "    if element in vowels:\n",
    "        vowel_count+=1\n",
    "    else:\n",
    "        consonant_count+=1\n",
    "print('vowel_count ',vowel_count,' consonant_count ',consonant_count )"
   ]
  },
  {
   "cell_type": "code",
   "execution_count": null,
   "id": "gyIAnPRmGZYZ",
   "metadata": {
    "id": "gyIAnPRmGZYZ"
   },
   "outputs": [],
   "source": [
    "#remove duplicates from list\n",
    "li=[0,1,2,2,3,4,5,6,7,7]\n",
    "index =0;\n",
    "while index<len(li)-1:\n",
    "    current_elemnt = li[index];\n",
    "    next_index=-1;\n",
    "    if(current_elemnt in li[index+1:]):# does element exists in the remaining elements\n",
    "        next_index=li.index(current_elemnt,index+1)# if yes, find the index of next occurrence\n",
    "   # print(li[0], next_index)\n",
    "    if(next_index !=-1):\n",
    "        del li[next_index]\n",
    "    else:\n",
    "        index=index+1\n",
    "print(li)"
   ]
  },
  {
   "cell_type": "code",
   "execution_count": null,
   "id": "6ERPdocQHk_6",
   "metadata": {
    "id": "6ERPdocQHk_6"
   },
   "outputs": [],
   "source": [
    "# find intersection of two lists\n",
    "li1=[0,1,2,2,3,4,5,6,7,7]\n",
    "li2=[2,3,4,5,9]\n",
    "#li2=[9]\n",
    "#li2=[0,1,2,2,3,4,5,6,7,7]\n",
    "intersection=set()\n",
    "for element in li1:\n",
    "    if(element in li2):\n",
    "        intersection.add(element)\n",
    "print(intersection)"
   ]
  },
  {
   "cell_type": "code",
   "execution_count": null,
   "id": "gn56Jc1xJMIz",
   "metadata": {
    "id": "gn56Jc1xJMIz"
   },
   "outputs": [],
   "source": [
    "#union of lists\n",
    "li1=[0,1,2,2,3,4,5,6,7,7]\n",
    "li2=[2,3,4,5,9]\n",
    "#li2=[9]\n",
    "#li2=[0,1,2,2,3,4,5,6,7,7]\n",
    "union=set()\n",
    "for element in li1:\n",
    "    if(element in li2):\n",
    "        union.add(element)\n",
    "        li2.remove(element)\n",
    "    else:\n",
    "        union.add(element)\n",
    "for element in li2:# add remainign elements\n",
    "    union.add(element)\n",
    "print(union)"
   ]
  },
  {
   "cell_type": "code",
   "execution_count": null,
   "id": "YbZoxzwdKk6c",
   "metadata": {
    "id": "YbZoxzwdKk6c"
   },
   "outputs": [],
   "source": [
    "# if all keys of one dict are present in another dict\n",
    "dict1={1:'A', 2:'B', 3:'C', 4:'D', 5:'E'}\n",
    "dict2={2:'B', 3:'C', 4:'D', 5:'E',7:'F'}\n",
    "all_keys_present=True;\n",
    "for key in dict1.keys():\n",
    "    if key not in dict2.keys():\n",
    "        all_keys_present=False;\n",
    "        break;\n",
    "if all_keys_present:\n",
    "    print(\"All keys are present in dcit2\")\n",
    "else:\n",
    "    print(\"All keys NOT  present in dcit2\")"
   ]
  },
  {
   "cell_type": "code",
   "execution_count": null,
   "id": "V8_h8o36RSIX",
   "metadata": {
    "id": "V8_h8o36RSIX"
   },
   "outputs": [],
   "source": [
    "# count of digits and sum of digits in a number\n",
    "num=int(input(\"Enter a number\"))\n",
    "sum_digit=0;\n",
    "count_digit=0;\n",
    "while(num!=0):\n",
    "    digit=num%10\n",
    "    sum_digit+=digit\n",
    "    count_digit+=1\n",
    "    num=num//10\n",
    "\n",
    "print(\"total digits \",count_digit, \" sum of digits \",sum_digit)"
   ]
  },
  {
   "cell_type": "code",
   "execution_count": null,
   "id": "ZARhYlAgV4rJ",
   "metadata": {
    "id": "ZARhYlAgV4rJ"
   },
   "outputs": [],
   "source": [
    "# find nth element of geometric progression 2,6,18,54\n",
    "a=2\n",
    "r=3\n",
    "n=int(input(\"Print n'th element\"))\n",
    "nth_element= a * pow(r, n-1)\n",
    "print(n,\" th element of geometric progression 2,6, is \", nth_element)"
   ]
  },
  {
   "cell_type": "code",
   "execution_count": 5,
   "id": "Nj2E88Alpyzn",
   "metadata": {
    "id": "Nj2E88Alpyzn"
   },
   "outputs": [
    {
     "name": "stdout",
     "output_type": "stream",
     "text": [
      "Unsorted dict {2: 'B', 3: 'C', 4: 'D', 5: 'E', 7: 'F', 8: 'A'}\n",
      "Sorted dict {8: 'A', 2: 'B', 3: 'C', 4: 'D', 5: 'E', 7: 'F'}\n"
     ]
    }
   ],
   "source": [
    "#sort dictionary by value\n",
    "dict2={2:'B', 3:'C', 4:'D', 5:'E',7:'F',8:'A'}\n",
    "values=sorted(dict2.values())\n",
    "sorted_dict={}\n",
    "for value in values:\n",
    "    for key,val in dict2.items():\n",
    "        if(value is val):\n",
    "            sorted_dict.update({key : val})\n",
    "\n",
    "print('Unsorted dict',dict2)\n",
    "print('Sorted dict',sorted_dict)"
   ]
  },
  {
   "cell_type": "code",
   "execution_count": 10,
   "id": "114c237f-fbea-4331-b3e3-64df4464ca01",
   "metadata": {},
   "outputs": [
    {
     "name": "stdin",
     "output_type": "stream",
     "text": [
      "Enter num 8\n"
     ]
    },
    {
     "name": "stdout",
     "output_type": "stream",
     "text": [
      "8 * 1 = 8\n",
      "8 * 2 = 16\n",
      "8 * 3 = 24\n",
      "8 * 4 = 32\n",
      "8 * 5 = 40\n",
      "8 * 6 = 48\n",
      "8 * 7 = 56\n",
      "8 * 8 = 64\n",
      "8 * 9 = 72\n",
      "8 * 10 = 80\n"
     ]
    }
   ],
   "source": [
    "#multiplication table\n",
    "a = int(input(\"Enter num\"))\n",
    "for i in range(1,11):\n",
    "    print(f\"{a} * {i} = {a*i}\")"
   ]
  },
  {
   "cell_type": "code",
   "execution_count": 4,
   "id": "e90e223d-3f7a-4891-a448-06f296d4e6af",
   "metadata": {},
   "outputs": [
    {
     "name": "stdin",
     "output_type": "stream",
     "text": [
      "Enter n 10\n"
     ]
    },
    {
     "name": "stdout",
     "output_type": "stream",
     "text": [
      "0 1 1 2 3 5 8 13 21 34 "
     ]
    }
   ],
   "source": [
    "#Fibonacci \n",
    "n=int(input(\"Enter n\"))\n",
    "i=3\n",
    "num1=0\n",
    "num2=1\n",
    "\n",
    "if(n <3):\n",
    "    print(num1, end =\" \")\n",
    "    print(num2, end =\" \")\n",
    "else:\n",
    "    print(num1, end =\" \")\n",
    "    print(num2, end =\" \")\n",
    "    while(i <=n):\n",
    "        num3 = num1 + num2\n",
    "        print(num3, end =\" \")\n",
    "        num1 = num2\n",
    "        num2= num3\n",
    "        i+=1"
   ]
  },
  {
   "cell_type": "code",
   "execution_count": 6,
   "id": "5f650964-07a7-48e1-bc30-9c775d2a5962",
   "metadata": {},
   "outputs": [
    {
     "name": "stdin",
     "output_type": "stream",
     "text": [
      "Enter your salary: 100\n",
      "Enter your serviceperiod in years: 7\n"
     ]
    },
    {
     "name": "stdout",
     "output_type": "stream",
     "text": [
      " you are eligible for bonus worth 5.0 Rs\n"
     ]
    }
   ],
   "source": [
    "salary = float(input(\"Enter your salary:\"))\n",
    "serviceperiod = int(input(\"Enter your serviceperiod in years:\"))\n",
    "if(serviceperiod >5):\n",
    "    bonusamount = (salary*5)/100\n",
    "    print(f\" you are eligible for bonus worth {bonusamount} Rs\")\n",
    "else:\n",
    "    print(\" you are not eligible for bonus amount\")"
   ]
  },
  {
   "cell_type": "code",
   "execution_count": 7,
   "id": "fef170bf-298b-4946-8790-27a6d94eba19",
   "metadata": {},
   "outputs": [
    {
     "name": "stdin",
     "output_type": "stream",
     "text": [
      "Enter length: 2\n",
      "Enter breadth: 3\n"
     ]
    },
    {
     "name": "stdout",
     "output_type": "stream",
     "text": [
      "Its a rectangle\n"
     ]
    }
   ],
   "source": [
    "length = int(input(\"Enter length:\"))\n",
    "breadth = int(input(\"Enter breadth:\"))\n",
    "if(length == breadth):\n",
    "    print(\"It's a sqaure\")\n",
    "else:\n",
    "    print(\"Its a rectangle\")"
   ]
  },
  {
   "cell_type": "code",
   "execution_count": 8,
   "id": "e62c2bd5-24b5-427a-81e2-48594952beb5",
   "metadata": {},
   "outputs": [
    {
     "name": "stdin",
     "output_type": "stream",
     "text": [
      "Enter age1: 1\n",
      "Enter age2: 2\n",
      "Enter age3: 3\n"
     ]
    },
    {
     "name": "stdout",
     "output_type": "stream",
     "text": [
      " youngest is of age 1 and eldest is of age 3\n"
     ]
    }
   ],
   "source": [
    "age1 = int(input(\"Enter age1:\"))\n",
    "age2 = int(input(\"Enter age2:\"))\n",
    "age3 = int(input(\"Enter age3:\"))\n",
    "if(age1==age2==age3):\n",
    "    print(\"All are of equal age\")\n",
    "else:\n",
    "    ages=[age1, age2, age3]\n",
    "    ages.sort();\n",
    "    print(f\" youngest is of age {ages[0]} and eldest is of age {ages[2]}\")"
   ]
  },
  {
   "cell_type": "code",
   "execution_count": 9,
   "id": "11298d32-3d38-41f9-a7fc-4f48e5964cd5",
   "metadata": {},
   "outputs": [
    {
     "name": "stdin",
     "output_type": "stream",
     "text": [
      "Total classes held 100\n",
      "Total classes attended 80\n",
      "Did you have medical cause ? yes or no y\n"
     ]
    },
    {
     "name": "stdout",
     "output_type": "stream",
     "text": [
      "you are allowed to write exam\n"
     ]
    }
   ],
   "source": [
    "no_of_classes_held = int(input(\"Total classes held\"))\n",
    "no_of_classes_attended = int(input(\"Total classes attended\"))\n",
    "medical_cause =str(input(\"Did you have medical cause ? yes or no\")).lower()\n",
    "percentage_of_classes_attended= (no_of_classes_attended/no_of_classes_held)*100\n",
    "if(percentage_of_classes_attended >75):\n",
    "    print(\"you are allowed to write exam\")\n",
    "elif(percentage_of_classes_attended <75 and medical_cause =='yes'):\n",
    "    print(\"You are allowed to write exam\")\n",
    "else:\n",
    "    print(\"Sorry, you are not allowed to write exam\")"
   ]
  },
  {
   "cell_type": "code",
   "execution_count": null,
   "id": "c4b63dfe-6a1b-470a-912f-512f79571969",
   "metadata": {},
   "outputs": [],
   "source": []
  }
 ],
 "metadata": {
  "colab": {
   "provenance": []
  },
  "kernelspec": {
   "display_name": "Python 3 (ipykernel)",
   "language": "python",
   "name": "python3"
  },
  "language_info": {
   "codemirror_mode": {
    "name": "ipython",
    "version": 3
   },
   "file_extension": ".py",
   "mimetype": "text/x-python",
   "name": "python",
   "nbconvert_exporter": "python",
   "pygments_lexer": "ipython3",
   "version": "3.11.7"
  }
 },
 "nbformat": 4,
 "nbformat_minor": 5
}
