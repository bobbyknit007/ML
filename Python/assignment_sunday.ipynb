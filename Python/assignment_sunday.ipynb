{
 "cells": [
  {
   "cell_type": "code",
   "execution_count": 9,
   "id": "31865ebc-b68f-4b72-b7e6-2d35f8d22f6e",
   "metadata": {},
   "outputs": [
    {
     "name": "stdout",
     "output_type": "stream",
     "text": [
      "{'Darr': ('sunny', 'juhi', 'sharukh'), 'Bahubali': ('prabhas', 'Anushka', 'Rana'), 'Baazigar': ('Ajay', 'Kajol', 'sharukh'), 'KGF2': ('Yash', 'srinidhi', 'Sanjay Dutt'), 'Khalnayak': ('Jackie', 'Madhuri', 'Sanjay Dutt'), 'DDLJ': ('Sharukh', 'kajol', 'amrish puri'), 'MunnaBhaiMBBS': ('Sanjay Dutt', 'Gracy Singh', 'Boman Irani')}\n"
     ]
    }
   ],
   "source": [
    "movies={}\n",
    "movies['Darr'] =('sunny', 'juhi', 'sharukh')\n",
    "movies['Bahubali']= ('prabhas', 'Anushka', 'Rana' )\n",
    "movies['Baazigar'] =('Ajay', 'Kajol', 'sharukh')\n",
    "movies['KGF2'] =('Yash' ,'srinidhi', 'Sanjay Dutt' )\n",
    "movies['Khalnayak'] =('Jackie' , 'Madhuri' , 'Sanjay Dutt' )\n",
    "movies['DDLJ'] =('Sharukh', 'kajol', 'amrish puri')\n",
    "movies['MunnaBhaiMBBS'] =('Sanjay Dutt',  'Gracy Singh', 'Boman Irani')\n",
    "print(movies)"
   ]
  },
  {
   "cell_type": "code",
   "execution_count": 37,
   "id": "da96b01b-6a4f-4c8c-9413-326656cebb9d",
   "metadata": {},
   "outputs": [],
   "source": [
    "def WhoplayedWhat(actor):\n",
    "    result=['','']\n",
    "    for movie, cast in movies.items():\n",
    "        if cast[0]==actor:\n",
    "            result[0]=result[0]+' '+movie\n",
    "        elif cast[2]==actor:\n",
    "            result[1]=result[1]+' '+movie\n",
    "    return result"
   ]
  },
  {
   "cell_type": "code",
   "execution_count": null,
   "id": "21594a71-ae2b-41d3-98d7-7f9574238aa8",
   "metadata": {},
   "outputs": [],
   "source": [
    "           "
   ]
  },
  {
   "cell_type": "code",
   "execution_count": 38,
   "id": "0685eafd-b8e2-4c74-93d2-f522a686175b",
   "metadata": {},
   "outputs": [
    {
     "name": "stdout",
     "output_type": "stream",
     "text": [
      "[' MunnaBhaiMBBS', ' KGF2 Khalnayak']\n"
     ]
    }
   ],
   "source": [
    "print(WhoplayedWhat('Sanjay Dutt'))"
   ]
  },
  {
   "cell_type": "code",
   "execution_count": 40,
   "id": "81f426bf-e7ab-4dd3-9d7a-150eb3a1e1f1",
   "metadata": {},
   "outputs": [
    {
     "name": "stdout",
     "output_type": "stream",
     "text": [
      "RED light\n",
      "YELLOW light\n",
      "GREEN light\n",
      "RED light\n",
      "YELLOW light\n",
      "GREEN light\n",
      "RED light\n",
      "YELLOW light\n",
      "GREEN light\n",
      "RED light\n",
      "YELLOW light\n",
      "GREEN light\n",
      "RED light\n",
      "YELLOW light\n",
      "GREEN light\n",
      "RED light\n",
      "YELLOW light\n",
      "GREEN light\n",
      "RED light\n",
      "YELLOW light\n",
      "GREEN light\n",
      "RED light\n",
      "YELLOW light\n",
      "GREEN light\n",
      "RED light\n",
      "YELLOW light\n",
      "GREEN light\n",
      "RED light\n",
      "YELLOW light\n",
      "GREEN light\n"
     ]
    }
   ],
   "source": [
    "import time\n",
    "i=0;\n",
    "while i<5:\n",
    "    print('RED light')\n",
    "    time.sleep(2)#sleep for 2 sceonds\n",
    "    print('YELLOW light')\n",
    "    time.sleep(2)\n",
    "    print('GREEN light')\n",
    "    time.sleep(2)\n",
    "    i+=1"
   ]
  },
  {
   "cell_type": "code",
   "execution_count": 3,
   "id": "886c32e8-9c7d-4659-981e-fecf55896f57",
   "metadata": {},
   "outputs": [],
   "source": [
    "encoded_message={\n",
    "    'a':1,\n",
    "    'b':2,\n",
    "    'c':3,\n",
    "    'd':4,\n",
    "    'e':5,\n",
    "    'f':6,\n",
    "    'g':7,\n",
    "    'h':8,\n",
    "    'i':9,\n",
    "    'j':10,\n",
    "    'k':11,\n",
    "    'l':12,\n",
    "    'm':13,\n",
    "    'n':14,\n",
    "    'o':15,\n",
    "    'p':16,\n",
    "    'q':17,\n",
    "    'r':18,\n",
    "    's':19,\n",
    "    't':20,\n",
    "    'u':21,\n",
    "    'v':22,\n",
    "    'w':23,\n",
    "    'x':24,\n",
    "    'y':25,\n",
    "    'z':26\n",
    "}"
   ]
  },
  {
   "cell_type": "code",
   "execution_count": 48,
   "id": "baab9f02-89df-4c48-8bbf-97881210532c",
   "metadata": {},
   "outputs": [],
   "source": [
    "def findCharacter(input):\n",
    "    for character, num  in encoded_message.items():\n",
    "        if(num==input):\n",
    "            return character"
   ]
  },
  {
   "cell_type": "code",
   "execution_count": 49,
   "id": "30930841-2abc-4896-a12f-17f4e40a79b9",
   "metadata": {},
   "outputs": [
    {
     "name": "stdout",
     "output_type": "stream",
     "text": [
      "d\n"
     ]
    }
   ],
   "source": [
    "print(findCharacter(4))"
   ]
  },
  {
   "cell_type": "code",
   "execution_count": 23,
   "id": "df17a4bc-a7f8-48f0-8eed-0adc6b9cd763",
   "metadata": {},
   "outputs": [],
   "source": [
    "def checkPasswordStrength(passw):\n",
    "    if(len(passw) >=8 and any(char.isupper() for char in passw) and  any(char.islower() for char in passw) and any(char.isdigit() for char in passw)\n",
    "      and all( char.isalnum() for char in passw)):\n",
    "        strength=\"Strong\"\n",
    "    else:\n",
    "        strength=\"Weak\"\n",
    "    print(\"Password strength:, \", strength)\n",
    "    print('-'*40)"
   ]
  },
  {
   "cell_type": "code",
   "execution_count": 24,
   "id": "d4555074-3837-4631-932e-46fb7281b5be",
   "metadata": {},
   "outputs": [
    {
     "name": "stdout",
     "output_type": "stream",
     "text": [
      "Password strength:,  Strong\n",
      "----------------------------------------\n"
     ]
    }
   ],
   "source": [
    "checkPasswordStrength('Abcd123e4')"
   ]
  },
  {
   "cell_type": "code",
   "execution_count": null,
   "id": "f17be01a-ae08-4d21-832d-279ff11b34f8",
   "metadata": {},
   "outputs": [],
   "source": []
  }
 ],
 "metadata": {
  "kernelspec": {
   "display_name": "Python 3 (ipykernel)",
   "language": "python",
   "name": "python3"
  },
  "language_info": {
   "codemirror_mode": {
    "name": "ipython",
    "version": 3
   },
   "file_extension": ".py",
   "mimetype": "text/x-python",
   "name": "python",
   "nbconvert_exporter": "python",
   "pygments_lexer": "ipython3",
   "version": "3.11.7"
  }
 },
 "nbformat": 4,
 "nbformat_minor": 5
}
