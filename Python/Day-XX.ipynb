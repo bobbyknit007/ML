{
 "cells": [
  {
   "cell_type": "code",
   "execution_count": 9,
   "id": "377b2afb-bcc1-431d-9967-0d5911353950",
   "metadata": {},
   "outputs": [
    {
     "name": "stdout",
     "output_type": "stream",
     "text": [
      "15 5 50 2.0\n",
      "(15, 5, 50, 2.0)\n",
      "<class 'tuple'>\n",
      "<class 'list'>\n",
      "[2.0, 5, 15, 50]\n",
      "<class 'list'>\n"
     ]
    }
   ],
   "source": [
    "def calci(a,b):\n",
    "    return a+b, a-b, a*b, a/b\n",
    "\n",
    "[add, sub, mul, div]=calci(10,5)\n",
    "x=calci(10,5)\n",
    "print(add, sub, mul, div)\n",
    "print(x)\n",
    "print(type(x))\n",
    "print(type([add, sub, mul, div]))\n",
    "print(sorted(x))\n",
    "print(type([]))"
   ]
  },
  {
   "cell_type": "code",
   "execution_count": null,
   "id": "24758f62-5959-4ce9-ad4e-11790a64b253",
   "metadata": {},
   "outputs": [],
   "source": [
    "# how to sort a tuple.\n",
    "# how to return multiple values from a function. "
   ]
  }
 ],
 "metadata": {
  "kernelspec": {
   "display_name": "Python 3 (ipykernel)",
   "language": "python",
   "name": "python3"
  },
  "language_info": {
   "codemirror_mode": {
    "name": "ipython",
    "version": 3
   },
   "file_extension": ".py",
   "mimetype": "text/x-python",
   "name": "python",
   "nbconvert_exporter": "python",
   "pygments_lexer": "ipython3",
   "version": "3.11.7"
  }
 },
 "nbformat": 4,
 "nbformat_minor": 5
}
