{
  "nbformat": 4,
  "nbformat_minor": 0,
  "metadata": {
    "colab": {
      "provenance": [],
      "toc_visible": true,
      "authorship_tag": "ABX9TyMI32RhtyXyNxniTmYIxGhR",
      "include_colab_link": true
    },
    "kernelspec": {
      "name": "python3",
      "display_name": "Python 3"
    },
    "language_info": {
      "name": "python"
    }
  },
  "cells": [
    {
      "cell_type": "markdown",
      "metadata": {
        "id": "view-in-github",
        "colab_type": "text"
      },
      "source": [
        "<a href=\"https://colab.research.google.com/github/bobbyknit007/ML/blob/main/Queries.ipynb\" target=\"_parent\"><img src=\"https://colab.research.google.com/assets/colab-badge.svg\" alt=\"Open In Colab\"/></a>"
      ]
    },
    {
      "cell_type": "markdown",
      "source": [
        " In regression analysis, you typically use the **coefficient of determination, root mean square error, mean absolute error**, or similar quantities. For classification problems, you often apply ** accuracy, precision, recall, F1 score** , and related indicators."
      ],
      "metadata": {
        "id": "UmfPwUYB4rtk"
      }
    },
    {
      "cell_type": "markdown",
      "source": [
        "# Doubts Raised"
      ],
      "metadata": {
        "id": "hr1tk29D45uH"
      }
    },
    {
      "cell_type": "markdown",
      "source": [
        "[fit_transform vs transform (Basic Fundamentals)](https://towardsdatascience.com/what-and-why-behind-fit-transform-vs-transform-in-scikit-learn-78f915cf96fe)\n",
        "\n",
        "**fit_transform** - The data is standardized/scaled ( making mean 0 , variance 1). in this process model learn about features mean and variance. It is called on training data set.\n",
        "**tranform** - same as fit_transform excep that uses mean and variance calculated in fit_transform method,  there by avoiding the model to learn about data since it is test data."
      ],
      "metadata": {
        "id": "6v3oofyTWdsh"
      }
    },
    {
      "cell_type": "markdown",
      "source": [
        "**Query:**\n",
        "\n",
        "\n",
        "\n",
        "In polynomial Regression, we scale the data to have ploynomial features , right ? How do we arrive to this conclusion that we need to use polynomial regression ?"
      ],
      "metadata": {
        "id": "jNwnZM3Ka3Uo"
      }
    },
    {
      "cell_type": "markdown",
      "source": [
        "Is mean squared error method that we use to find error between predcited and actual value , called cost function ? Or is it different ? </br>\n",
        "The answer is yes.\n",
        "[Understanding cost function (Basic Fundamentals)](https://builtin.com/machine-learning/cost-function#:~:text=What%20Is%20Cost%20Function%20of,of%20a%20single%20real%20number.)"
      ],
      "metadata": {
        "id": "L7fxw-3m10mW"
      }
    },
    {
      "cell_type": "markdown",
      "source": [
        "what is penalty in cost function?"
      ],
      "metadata": {
        "id": "jv7sIfp75ZDp"
      }
    },
    {
      "cell_type": "markdown",
      "source": [
        "# Further Read"
      ],
      "metadata": {
        "id": "u0ofGnerBjDI"
      }
    },
    {
      "cell_type": "markdown",
      "source": [
        "[Try hands with Lasso Regression](https://www.kirenz.com/blog/posts/2019-08-12-python-lasso-regression-auto/) </br>\n",
        "[Understanding Regularization with example](https://www.linkedin.com/pulse/tutorial-ridge-lasso-regression-subhajit-mondal/)"
      ],
      "metadata": {
        "id": "PgWm5DmCBui4"
      }
    }
  ]
}