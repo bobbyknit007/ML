{
 "cells": [
  {
   "cell_type": "markdown",
   "metadata": {},
   "source": [
    "## Introduction to NumPy:\n",
    "\n",
    "### NumPy is a powerful library that provides support for : \n",
    "\n",
    "arrays, matrices, and mathematical functions, making it a core tool in scientific computing and data analysis. Here's an outline of what is contained in NumPy class:"
   ]
  },
  {
   "cell_type": "markdown",
   "metadata": {},
   "source": [
    "#### NumPy is a fundamental library in Python for numerical computations and data manipulation. It provides support for arrays and matrices, along with a wide range of mathematical functions to operate on these arrays efficiently. This makes it an essential tool for scientific computing and data analysis tasks."
   ]
  },
  {
   "cell_type": "markdown",
   "metadata": {},
   "source": [
    "#### NumPy arrays and Python lists are both used to store collections of data, but they have several key differences in terms of performance, functionality, and memory management. Here's a breakdown of the technical differences between the two:\n",
    "\n",
    "Homogeneity:\n",
    "\n",
    "\n",
    "NumPy arrays are homogeneous, meaning all elements in the array must be of the same data type (integers, floats, etc.).\n",
    "\n",
    "Python List: Python lists can store elements of different data types in the same list.\n",
    "Performance:\n",
    "\n",
    "#### ---------------------\n",
    "\n",
    "NumPy arrays are optimized for numerical operations. They are more memory-efficient and faster for large-scale numerical computations due to their efficient memory layout and use of low-level operations.\n",
    "\n",
    "Python List: Python lists are not as optimized for numerical computations and can be slower for large datasets or mathematical operations.\n",
    "Memory Efficiency:\n",
    "\n",
    "#### ---------------------\n",
    "\n",
    "NumPy Array: NumPy arrays use a contiguous block of memory, which reduces memory overhead and allows for better cache utilization. This results in better memory efficiency compared to Python lists.\n",
    "\n",
    "Python List: Python lists are less memory-efficient since they store additional information for each element, including the type and reference count.\n",
    "Functionality:\n",
    "\n",
    "#### ----------------------\n",
    "\n",
    "NumPy Array: NumPy arrays offer a wide range of mathematical and array-specific functions for efficient element-wise operations, broadcasting, and advanced array manipulation.\n",
    "\n",
    "Python List: Python lists offer basic operations like appending, extending, and indexing, but lack the advanced array-specific functionality of NumPy arrays.\n",
    "Vectorized Operations:\n",
    "\n",
    "\n",
    "#### -----------------------\n",
    "\n",
    "NumPy Array: NumPy arrays allow for vectorized operations, where operations are applied element-wise without explicit loops. This leads to cleaner and more concise code.\n",
    "\n",
    "Python List: Python lists require explicit loops to perform element-wise operations, which can be slower and less readable.\n",
    "\n",
    "#### -----------------------\n",
    "\n",
    "\n",
    "Size and Shape:\n",
    "\n",
    "NumPy Array: NumPy arrays have a fixed size and shape upon creation. Changing the shape requires creating a new array or using specialized functions.\n",
    "\n",
    "Python List: Python lists can dynamically change in size by appending or removing elements.\n",
    "Supported Functions:\n",
    "\n",
    "#### -----------------------\n",
    "\n",
    "\n",
    "NumPy Array: NumPy arrays support a wide range of mathematical and statistical functions, linear algebra operations, and more, making it suitable for scientific computing and data analysis.\n",
    "\n",
    "Python List: Python lists lack built-in support for many of the advanced numerical and array operations provided by NumPy.\n",
    "\n",
    "#### ----------------------\n",
    "\n",
    "#### In summary, NumPy arrays are designed specifically for numerical and scientific computing tasks, offering better performance, memory efficiency, and a comprehensive set of functions for working with arrays. Python lists are more general-purpose and flexible but lack the specialized features and optimizations of NumPy arrays when it comes to numerical operations."
   ]
  },
  {
   "cell_type": "markdown",
   "metadata": {},
   "source": [
    "### Installing and Importing NumPy:\n"
   ]
  },
  {
   "cell_type": "code",
   "execution_count": 2,
   "metadata": {},
   "outputs": [
    {
     "name": "stdout",
     "output_type": "stream",
     "text": [
      "Requirement already satisfied: numpy in c:\\users\\vijay\\anaconda3\\lib\\site-packages (1.19.2)\n",
      "Note: you may need to restart the kernel to use updated packages.\n"
     ]
    }
   ],
   "source": [
    "pip install numpy\n"
   ]
  },
  {
   "cell_type": "code",
   "execution_count": 3,
   "metadata": {},
   "outputs": [],
   "source": [
    "#To import NumPy in your Python script or notebook:\n",
    "import numpy as np\n"
   ]
  },
  {
   "cell_type": "markdown",
   "metadata": {},
   "source": [
    "#### NumPy Arrays:\n",
    "\n",
    "NumPy arrays are the core data structure in NumPy, enabling you to work with homogeneous data efficiently. You can create arrays using various functions like np.array(), np.zeros(), np.ones(), and np.arange(). For example:"
   ]
  },
  {
   "cell_type": "code",
   "execution_count": 15,
   "metadata": {},
   "outputs": [
    {
     "name": "stdout",
     "output_type": "stream",
     "text": [
      "[ 0. 30. 60. 90.]\n"
     ]
    },
    {
     "data": {
      "text/plain": [
       "array([  0,   3,   6,   9,  12,  15,  18,  21,  24,  27,  30,  33,  36,\n",
       "        39,  42,  45,  48,  51,  54,  57,  60,  63,  66,  69,  72,  75,\n",
       "        78,  81,  84,  87,  90,  93,  96,  99, 102, 105, 108, 111, 114,\n",
       "       117, 120, 123, 126, 129, 132, 135, 138, 141, 144, 147])"
      ]
     },
     "execution_count": 15,
     "metadata": {},
     "output_type": "execute_result"
    }
   ],
   "source": [
    "import numpy as np\n",
    "import math\n",
    "\n",
    "arr = np.array([1, 2, 3, 4, 5])\n",
    "zeros_arr = np.zeros(5)\n",
    "ones_arr = np.ones(5)\n",
    "range_arr = np.arange(0, 150, 3)\n",
    "b = np.linspace(0, 90, 4)\n",
    "print(b)\n",
    "zeros_arr\n",
    "range_arr\n",
    "\n"
   ]
  },
  {
   "cell_type": "markdown",
   "metadata": {},
   "source": [
    "#### Array Operations:\n",
    "\n",
    "NumPy supports element-wise operations on arrays. Basic arithmetic operations like addition, subtraction, multiplication, and division are performed element-wise."
   ]
  },
  {
   "cell_type": "code",
   "execution_count": 17,
   "metadata": {},
   "outputs": [
    {
     "name": "stdout",
     "output_type": "stream",
     "text": [
      "[1, 2, 3, 4, 5, 6]\n",
      "[3 3 3]\n"
     ]
    }
   ],
   "source": [
    "import numpy as np\n",
    "\n",
    "\n",
    "L1=[1, 2, 3]\n",
    "L2=[4, 5, 6]\n",
    "\n",
    "print(L1+L2)\n",
    "\n",
    "arr1 = np.array(L1)\n",
    "arr2 = np.array(L2)\n",
    "\n",
    "addition = arr1 + arr2\n",
    "\n",
    "subtraction = arr1 - arr2\n",
    "multiplication = arr1 * arr2\n",
    "division = arr1 / arr2\n",
    "print(subtraction)"
   ]
  },
  {
   "cell_type": "markdown",
   "metadata": {},
   "source": [
    "Indexing and Slicing:\n",
    "You can access and modify elements of arrays using indexing and slicing. Indexing starts at 0, and slicing allows you to extract portions of arrays."
   ]
  },
  {
   "cell_type": "code",
   "execution_count": 10,
   "metadata": {},
   "outputs": [
    {
     "data": {
      "text/plain": [
       "array([20, 30, 40])"
      ]
     },
     "execution_count": 10,
     "metadata": {},
     "output_type": "execute_result"
    }
   ],
   "source": [
    "import numpy as np\n",
    "\n",
    "arr = np.array([10, 20, 30, 40, 50])\n",
    "first_element = arr[0]\n",
    "sub_array = arr[1:4]\n",
    "sub_array"
   ]
  },
  {
   "cell_type": "markdown",
   "metadata": {},
   "source": [
    "Array Manipulation:\n",
    "You can reshape arrays using np.reshape(), flatten them using np.flatten() or np.ravel(), and transpose them using np.transpose() or array attributes."
   ]
  },
  {
   "cell_type": "code",
   "execution_count": 12,
   "metadata": {},
   "outputs": [
    {
     "name": "stdout",
     "output_type": "stream",
     "text": [
      "[[1 2 3]\n",
      " [4 5 6]]\n"
     ]
    },
    {
     "data": {
      "text/plain": [
       "array([[1, 2],\n",
       "       [3, 4],\n",
       "       [5, 6]])"
      ]
     },
     "execution_count": 12,
     "metadata": {},
     "output_type": "execute_result"
    }
   ],
   "source": [
    "import numpy as np\n",
    "\n",
    "arr = np.array([[1, 2, 3], [4, 5, 6]])\n",
    "reshaped_arr = np.reshape(arr, (3, 2))\n",
    "flattened_arr = arr.flatten()\n",
    "transposed_arr = np.transpose(arr)\n",
    "\n",
    "print(arr)\n",
    "reshaped_arr"
   ]
  },
  {
   "cell_type": "markdown",
   "metadata": {},
   "source": [
    "Aggregation and Reduction:\n",
    "NumPy provides functions to compute statistics on arrays, like mean, median, sum, min, and max."
   ]
  },
  {
   "cell_type": "code",
   "execution_count": 13,
   "metadata": {},
   "outputs": [
    {
     "data": {
      "text/plain": [
       "50"
      ]
     },
     "execution_count": 13,
     "metadata": {},
     "output_type": "execute_result"
    }
   ],
   "source": [
    "import numpy as np\n",
    "\n",
    "arr = np.array([10, 20, 30, 40, 50])\n",
    "mean_value = np.mean(arr)\n",
    "max_value = np.max(arr)\n",
    "max_value"
   ]
  },
  {
   "cell_type": "markdown",
   "metadata": {},
   "source": [
    "Array Broadcasting:\n",
    "Broadcasting allows you to perform operations between arrays of different shapes. NumPy automatically handles shape compatibility by replicating values along dimensions as needed. This is particularly useful for operations that involve arrays of different shapes."
   ]
  },
  {
   "cell_type": "code",
   "execution_count": 19,
   "metadata": {},
   "outputs": [
    {
     "data": {
      "text/plain": [
       "array([[11, 22, 33],\n",
       "       [14, 25, 36]])"
      ]
     },
     "execution_count": 19,
     "metadata": {},
     "output_type": "execute_result"
    }
   ],
   "source": [
    "import numpy as np\n",
    "\n",
    "# Scalar and Array Broadcasting\n",
    "scalar = 5\n",
    "array = np.array([1, 2, 3, 4, 5])\n",
    "result_scalar_array = scalar * array\n",
    "\n",
    "# Arrays of Different Shapes\n",
    "arr1 = np.array([[1, 2, 3], [4, 5, 6]])\n",
    "arr2 = np.array([10, 20, 30])\n",
    "result_broadcasting = arr1 + arr2\n",
    "\n",
    "result_broadcasting"
   ]
  },
  {
   "cell_type": "markdown",
   "metadata": {},
   "source": [
    "Boolean Indexing and Fancy Indexing:\n",
    "Boolean indexing allows you to select elements based on conditions. Fancy indexing lets you select elements using integer arrays."
   ]
  },
  {
   "cell_type": "code",
   "execution_count": 23,
   "metadata": {},
   "outputs": [
    {
     "name": "stdout",
     "output_type": "stream",
     "text": [
      "[False  True False False False]\n"
     ]
    },
    {
     "data": {
      "text/plain": [
       "array([25])"
      ]
     },
     "execution_count": 23,
     "metadata": {},
     "output_type": "execute_result"
    }
   ],
   "source": [
    "import numpy as np\n",
    "\n",
    "arr = np.array([10, 25, 30, 15, 50])\n",
    "bool_idx = arr == 25\n",
    "selected_elements = arr[bool_idx]\n",
    "\n",
    "indices = np.array([0, 2, 4])\n",
    "fancy_selected = arr[indices]\n",
    "\n",
    "print(bool_idx)\n",
    "selected_elements"
   ]
  },
  {
   "cell_type": "code",
   "execution_count": 24,
   "metadata": {},
   "outputs": [
    {
     "name": "stdout",
     "output_type": "stream",
     "text": [
      "Boolean index array: [False  True False False False]\n",
      "Selected elements: [25]\n",
      "Index of 'True': 1\n"
     ]
    }
   ],
   "source": [
    "import numpy as np\n",
    "\n",
    "arr = np.array([10, 25, 30, 15, 50])\n",
    "bool_idx = arr == 25\n",
    "selected_elements = arr[bool_idx]\n",
    "\n",
    "indices = np.array([0, 2, 4])\n",
    "fancy_selected = arr[indices]\n",
    "\n",
    "index_of_true = np.where(bool_idx)[0][0]\n",
    "\n",
    "print(\"Boolean index array:\", bool_idx)\n",
    "print(\"Selected elements:\", selected_elements)\n",
    "print(\"Index of 'True':\", index_of_true)\n"
   ]
  },
  {
   "cell_type": "code",
   "execution_count": 30,
   "metadata": {},
   "outputs": [
    {
     "name": "stdout",
     "output_type": "stream",
     "text": [
      "[4 7 8]\n",
      "0.666666666666667\n",
      "2.888888888888889\n"
     ]
    }
   ],
   "source": [
    "numbers=[1,4,7,8,15,2]\n",
    "data=np.array(numbers)\n",
    "\n",
    "mean=np.mean(data)\n",
    "median=np.median(data)\n",
    "stdv=np.std(data)\n",
    "\n",
    "diff_from_mean=abs(data-mean)\n",
    "diff_from_mean\n",
    "threshold=0.7\n",
    "bool_idx = diff_from_mean < stdv*threshold\n",
    "selected=data[bool_idx]\n",
    "\n",
    "mean=np.mean(selected)\n",
    "median=np.median(selected)\n",
    "var=np.var(selected)\n",
    "\n",
    "print(selected)\n",
    "print(abs(mean-median))\n",
    "print(selected.var())"
   ]
  },
  {
   "cell_type": "markdown",
   "metadata": {},
   "source": [
    "Array Concatenation and Splitting:\n",
    "You can combine arrays using functions like np.concatenate(), np.vstack(), and np.hstack(). Splitting arrays can be done with np.split(), np.vsplit(), and np.hsplit()."
   ]
  },
  {
   "cell_type": "code",
   "execution_count": 14,
   "metadata": {},
   "outputs": [],
   "source": [
    "import numpy as np\n",
    "\n",
    "arr1 = np.array([1, 2, 3])\n",
    "arr2 = np.array([4, 5, 6])\n",
    "\n",
    "concatenated = np.concatenate((arr1, arr2))\n",
    "vertical_stack = np.vstack((arr1, arr2))\n",
    "\n",
    "# assingment : create an example for -> hstack, spilt, vsplit &hsplit"
   ]
  },
  {
   "cell_type": "markdown",
   "metadata": {},
   "source": [
    "File I/O with NumPy:\n",
    "You can save and load arrays to/from files using np.save() and np.load(). For instance:"
   ]
  },
  {
   "cell_type": "code",
   "execution_count": null,
   "metadata": {},
   "outputs": [],
   "source": [
    "import numpy as np\n",
    "\n",
    "arr = np.array([1, 2, 3, 4, 5])\n",
    "np.save('my_array.npy', arr)\n",
    "\n",
    "loaded_arr = np.load('my_array.npy')\n"
   ]
  },
  {
   "cell_type": "markdown",
   "metadata": {},
   "source": [
    "Intro to Linear Algebra with NumPy:\n",
    "NumPy's np.linalg module provides functions for common linear algebra operations. For example, computing the dot product of two matrices:"
   ]
  },
  {
   "cell_type": "code",
   "execution_count": 31,
   "metadata": {},
   "outputs": [
    {
     "data": {
      "text/plain": [
       "array([[19, 22],\n",
       "       [43, 50]])"
      ]
     },
     "execution_count": 31,
     "metadata": {},
     "output_type": "execute_result"
    }
   ],
   "source": [
    "import numpy as np\n",
    "\n",
    "A = np.array([[1, 2], [3, 4]])\n",
    "B = np.array([[5, 6], [7, 8]])\n",
    "dot_product = np.dot(A, B)\n",
    "dot_product\n",
    "# check how a cross product is done"
   ]
  },
  {
   "cell_type": "markdown",
   "metadata": {},
   "source": [
    "Introduction to Random Number Generation:\n",
    "NumPy's np.random module offers functions to generate random numbers and arrays with various distributions."
   ]
  },
  {
   "cell_type": "code",
   "execution_count": 33,
   "metadata": {},
   "outputs": [
    {
     "data": {
      "text/plain": [
       "array([[0.22931217, 0.31367025, 0.4597228 ],\n",
       "       [0.89383007, 0.09608581, 0.76796025],\n",
       "       [0.44041152, 0.69461658, 0.9399327 ]])"
      ]
     },
     "execution_count": 33,
     "metadata": {},
     "output_type": "execute_result"
    }
   ],
   "source": [
    "import numpy as np\n",
    "\n",
    "random_nums = np.random.rand(3, 3)  # Generates a 3x3 array of random numbers between 0 and 1\n",
    "random_nums"
   ]
  },
  {
   "cell_type": "markdown",
   "metadata": {},
   "source": [
    "### NumPy in Data Analysis:\n",
    "NumPy is often used in combination with libraries like Pandas for data manipulation and Matplotlib for data visualization. You can work with data in NumPy arrays and then analyze and visualize it using these other libraries."
   ]
  },
  {
   "cell_type": "code",
   "execution_count": null,
   "metadata": {},
   "outputs": [],
   "source": []
  }
 ],
 "metadata": {
  "kernelspec": {
   "display_name": "Python 3",
   "language": "python",
   "name": "python3"
  },
  "language_info": {
   "codemirror_mode": {
    "name": "ipython",
    "version": 3
   },
   "file_extension": ".py",
   "mimetype": "text/x-python",
   "name": "python",
   "nbconvert_exporter": "python",
   "pygments_lexer": "ipython3",
   "version": "3.8.5"
  }
 },
 "nbformat": 4,
 "nbformat_minor": 4
}
