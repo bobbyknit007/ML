{
 "cells": [
  {
   "cell_type": "markdown",
   "metadata": {},
   "source": [
    "# Mean, Median, Mode, and introducing NumPy"
   ]
  },
  {
   "cell_type": "markdown",
   "metadata": {},
   "source": [
    "## Mean vs. Median"
   ]
  },
  {
   "cell_type": "markdown",
   "metadata": {},
   "source": [
    "Let's create some fake income data, centered around 27,000 with a normal distribution and standard deviation of 15,000, with 10,000 data points. (We'll discuss those terms more later, if you're not familiar with them.)\n",
    "\n",
    "Then, compute the mean (average) - it should be close to 27,000:"
   ]
  },
  {
   "cell_type": "code",
   "execution_count": 2,
   "metadata": {},
   "outputs": [
    {
     "data": {
      "text/plain": [
       "27006.92517269143"
      ]
     },
     "execution_count": 2,
     "metadata": {},
     "output_type": "execute_result"
    }
   ],
   "source": [
    "import numpy as np\n",
    "\n",
    "incomes = np.random.normal(27000, 15000, 10000)\n",
    "np.mean(incomes)"
   ]
  },
  {
   "cell_type": "markdown",
   "metadata": {},
   "source": [
    "We can segment the income data into 50 buckets, and plot it as a histogram:"
   ]
  },
  {
   "cell_type": "code",
   "execution_count": 3,
   "metadata": {},
   "outputs": [
    {
     "data": {
      "image/png": "[encoded data removed]",
      "text/plain": [
       "<Figure size 640x480 with 1 Axes>"
      ]
     },
     "metadata": {},
     "output_type": "display_data"
    }
   ],
   "source": [
    "# A bucket of 50 means there will be 50 buckets which will hold 10000 peoples salary. 10000/50= 200. So first bucket contains \n",
    "# 200 samples. Each histogram represents the mean salary in that bucket. \n",
    "\n",
    "%matplotlib inline\n",
    "import matplotlib.pyplot as plt\n",
    "plt.hist(incomes, 50)\n",
    "plt.show()"
   ]
  },
  {
   "cell_type": "markdown",
   "metadata": {},
   "source": [
    "Now compute the median - since we have a nice, even distribution it too should be close to 27,000:"
   ]
  },
  {
   "cell_type": "code",
   "execution_count": 4,
   "metadata": {},
   "outputs": [
    {
     "data": {
      "text/plain": [
       "27145.957959772146"
      ]
     },
     "execution_count": 4,
     "metadata": {},
     "output_type": "execute_result"
    }
   ],
   "source": [
    "np.median(incomes)"
   ]
  },
  {
   "cell_type": "markdown",
   "metadata": {},
   "source": [
    "Now we'll add Donald Trump into the mix. Darn income inequality!"
   ]
  },
  {
   "cell_type": "code",
   "execution_count": 5,
   "metadata": {},
   "outputs": [],
   "source": [
    "incomes = np.append(incomes, [1000000000])"
   ]
  },
  {
   "cell_type": "markdown",
   "metadata": {},
   "source": [
    "The median won't change much, but the mean does:"
   ]
  },
  {
   "cell_type": "code",
   "execution_count": 6,
   "metadata": {},
   "outputs": [
    {
     "data": {
      "text/plain": [
       "27147.074142223137"
      ]
     },
     "execution_count": 6,
     "metadata": {},
     "output_type": "execute_result"
    }
   ],
   "source": [
    "np.median(incomes)"
   ]
  },
  {
   "cell_type": "code",
   "execution_count": 7,
   "metadata": {},
   "outputs": [
    {
     "data": {
      "text/plain": [
       "126994.22575011643"
      ]
     },
     "execution_count": 7,
     "metadata": {},
     "output_type": "execute_result"
    }
   ],
   "source": [
    "np.mean(incomes)"
   ]
  },
  {
   "cell_type": "markdown",
   "metadata": {},
   "source": [
    "## Mode"
   ]
  },
  {
   "cell_type": "markdown",
   "metadata": {},
   "source": [
    "Next, let's generate some fake age data for 500 people:"
   ]
  },
  {
   "cell_type": "code",
   "execution_count": 12,
   "metadata": {},
   "outputs": [
    {
     "data": {
      "text/plain": [
       "array([44, 33, 37, 59, 79, 37, 61, 52, 44, 48, 18, 23, 81, 64, 53, 30, 43,\n",
       "       37, 22, 84, 43, 54, 48, 51, 74, 39, 56, 49, 87, 77, 61, 48, 44, 83,\n",
       "       47, 86, 23, 34, 18, 89, 25, 45, 38, 43, 19, 53, 87, 89, 38, 48, 82,\n",
       "       28, 28, 48, 81, 54, 32, 23, 56, 84, 64, 38, 80, 45, 64, 53, 52, 67,\n",
       "       33, 79, 27, 22, 85, 59, 80, 54, 67, 26, 77, 38, 70, 39, 70, 51, 20,\n",
       "       45, 31, 50, 18, 75, 26, 53, 30, 89, 61, 75, 24, 57, 66, 25, 73, 74,\n",
       "       31, 22, 83, 44, 71, 57, 79, 39, 39, 55, 69, 67, 69, 52, 77, 89, 38,\n",
       "       34, 52, 84, 38, 50, 61, 55, 79, 27, 26, 77, 37, 33, 37, 37, 45, 89,\n",
       "       41, 40, 32, 78, 26, 56, 82, 49, 79, 29, 41, 56, 27, 66, 34, 42, 47,\n",
       "       28, 69, 33, 31, 41, 72, 29, 74, 19, 44, 46, 42, 30, 67, 72, 77, 69,\n",
       "       74, 56, 34, 22, 52, 32, 56, 41, 86, 52, 27, 86, 68, 65, 40, 41, 86,\n",
       "       33, 43, 71, 39, 44, 53, 86, 51, 21, 80, 64, 42, 22, 80, 20, 77, 50,\n",
       "       75, 31, 49, 25, 22, 51, 20, 61, 25, 40, 88, 79, 66, 66, 75, 52, 23,\n",
       "       63, 60, 82, 28, 82, 63, 47, 50, 32, 50, 29, 60, 22, 66, 34, 79, 76,\n",
       "       62, 67, 32, 34, 58, 39, 28, 45, 72, 47, 43, 31, 58, 23, 73, 43, 47,\n",
       "       80, 62, 23, 23, 79, 45, 78, 23, 58, 75, 84, 27, 72, 67, 20, 22, 28,\n",
       "       60, 54, 64, 89, 72, 66, 24, 58, 22, 34, 59, 58, 76, 84, 72, 33, 74,\n",
       "       26, 77, 84, 70, 87, 31, 72, 42, 86, 89, 20, 50, 24, 72, 27, 72, 73,\n",
       "       87, 28, 53, 39, 74, 27, 87, 87, 77, 85, 49, 38, 22, 61, 79, 34, 69,\n",
       "       61, 77, 64, 31, 44, 73, 40, 87, 47, 83, 42, 20, 28, 73, 25, 71, 51,\n",
       "       52, 85, 61, 62, 76, 28, 52, 72, 56, 74, 34, 42, 68, 32, 66, 29, 66,\n",
       "       31, 69, 36, 27, 39, 89, 75, 25, 31, 58, 58, 20, 83, 35, 34, 59, 65,\n",
       "       75, 68, 67, 61, 61, 67, 67, 29, 55, 47, 23, 74, 65, 60, 80, 41, 73,\n",
       "       72, 25, 60, 29, 48, 66, 73, 67, 26, 49, 89, 18, 41, 78, 88, 25, 57,\n",
       "       60, 77, 41, 89, 66, 61, 59, 70, 49, 78, 29, 49, 28, 29, 39, 51, 84,\n",
       "       77, 66, 18, 73, 58, 51, 23, 27, 62, 23, 34, 84, 63, 37, 46, 60, 29,\n",
       "       55, 50, 53, 72, 78, 38, 68, 65, 58, 29, 75, 29, 44, 34, 21, 47, 50,\n",
       "       72, 41, 84, 87, 54, 72, 45, 42, 23, 39, 41, 65, 63, 37, 49, 39, 76,\n",
       "       89, 71, 84, 19, 44, 47, 77, 50, 58, 37, 22, 55, 46, 20, 55, 37, 86,\n",
       "       23, 65, 57, 60, 86, 79, 49])"
      ]
     },
     "execution_count": 12,
     "metadata": {},
     "output_type": "execute_result"
    }
   ],
   "source": [
    "ages = np.random.randint(low=18, high=90, size=500)\n",
    "ages"
   ]
  },
  {
   "cell_type": "code",
   "execution_count": 13,
   "metadata": {},
   "outputs": [
    {
     "data": {
      "text/plain": [
       "ModeResult(mode=72, count=14)"
      ]
     },
     "execution_count": 13,
     "metadata": {},
     "output_type": "execute_result"
    }
   ],
   "source": [
    "from scipy import stats\n",
    "stats.mode(ages)"
   ]
  },
  {
   "cell_type": "code",
   "execution_count": null,
   "metadata": {},
   "outputs": [],
   "source": []
  }
 ],
 "metadata": {
  "kernelspec": {
   "display_name": "Python 3 (ipykernel)",
   "language": "python",
   "name": "python3"
  },
  "language_info": {
   "codemirror_mode": {
    "name": "ipython",
    "version": 3
   },
   "file_extension": ".py",
   "mimetype": "text/x-python",
   "name": "python",
   "nbconvert_exporter": "python",
   "pygments_lexer": "ipython3",
   "version": "3.11.7"
  }
 },
 "nbformat": 4,
 "nbformat_minor": 4
}
