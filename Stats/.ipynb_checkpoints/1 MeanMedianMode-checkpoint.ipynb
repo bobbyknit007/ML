{
 "cells": [
  {
   "cell_type": "markdown",
   "metadata": {},
   "source": [
    "# Mean, Median, Mode, and introducing NumPy"
   ]
  },
  {
   "cell_type": "markdown",
   "metadata": {},
   "source": [
    "## Mean vs. Median"
   ]
  },
  {
   "cell_type": "markdown",
   "metadata": {},
   "source": [
    "Let's create some fake income data, centered around 27,000 with a normal distribution and standard deviation of 15,000, with 10,000 data points. (We'll discuss those terms more later, if you're not familiar with them.)\n",
    "\n",
    "Then, compute the mean (average) - it should be close to 27,000:"
   ]
  },
  {
   "cell_type": "code",
   "execution_count": 12,
   "metadata": {},
   "outputs": [
    {
     "data": {
      "text/plain": [
       "27189.822524251325"
      ]
     },
     "execution_count": 12,
     "metadata": {},
     "output_type": "execute_result"
    }
   ],
   "source": [
    "import numpy as np\n",
    "\n",
    "incomes = np.random.normal(27000, 15000, 10000)\n",
    "np.mean(incomes)"
   ]
  },
  {
   "cell_type": "markdown",
   "metadata": {},
   "source": [
    "We can segment the income data into 50 buckets, and plot it as a histogram:"
   ]
  },
  {
   "cell_type": "code",
   "execution_count": 13,
   "metadata": {},
   "outputs": [
    {
     "data": {
      "image/png": "[encoded data removed]",
      "text/plain": [
       "<Figure size 432x288 with 1 Axes>"
      ]
     },
     "metadata": {
      "needs_background": "light"
     },
     "output_type": "display_data"
    }
   ],
   "source": [
    "# A bucket of 50 means there will be 50 buckets which will hold 10000 peoples salary. 10000/50= 200. So first bucket contains \n",
    "# 200 samples. Each histogram represents the mean salary in that bucket. \n",
    "\n",
    "%matplotlib inline\n",
    "import matplotlib.pyplot as plt\n",
    "plt.hist(incomes, 50)\n",
    "plt.show()"
   ]
  },
  {
   "cell_type": "markdown",
   "metadata": {},
   "source": [
    "Now compute the median - since we have a nice, even distribution it too should be close to 27,000:"
   ]
  },
  {
   "cell_type": "code",
   "execution_count": 14,
   "metadata": {},
   "outputs": [
    {
     "data": {
      "text/plain": [
       "27122.88277779398"
      ]
     },
     "execution_count": 14,
     "metadata": {},
     "output_type": "execute_result"
    }
   ],
   "source": [
    "np.median(incomes)"
   ]
  },
  {
   "cell_type": "markdown",
   "metadata": {},
   "source": [
    "Now we'll add Donald Trump into the mix. Darn income inequality!"
   ]
  },
  {
   "cell_type": "code",
   "execution_count": 15,
   "metadata": {},
   "outputs": [],
   "source": [
    "incomes = np.append(incomes, [1000000000])"
   ]
  },
  {
   "cell_type": "markdown",
   "metadata": {},
   "source": [
    "The median won't change much, but the mean does:"
   ]
  },
  {
   "cell_type": "code",
   "execution_count": 16,
   "metadata": {},
   "outputs": [
    {
     "data": {
      "text/plain": [
       "27127.18511594231"
      ]
     },
     "execution_count": 16,
     "metadata": {},
     "output_type": "execute_result"
    }
   ],
   "source": [
    "np.median(incomes)"
   ]
  },
  {
   "cell_type": "code",
   "execution_count": 17,
   "metadata": {},
   "outputs": [
    {
     "data": {
      "text/plain": [
       "127177.10481376994"
      ]
     },
     "execution_count": 17,
     "metadata": {},
     "output_type": "execute_result"
    }
   ],
   "source": [
    "np.mean(incomes)"
   ]
  },
  {
   "cell_type": "markdown",
   "metadata": {},
   "source": [
    "## Mode"
   ]
  },
  {
   "cell_type": "markdown",
   "metadata": {},
   "source": [
    "Next, let's generate some fake age data for 500 people:"
   ]
  },
  {
   "cell_type": "code",
   "execution_count": 18,
   "metadata": {},
   "outputs": [
    {
     "data": {
      "text/plain": [
       "array([25, 32, 49, 71, 41, 33, 69, 61, 48, 76, 19, 78, 68, 40, 74, 30, 21,\n",
       "       83, 65, 19, 75, 25, 82, 87, 38, 18, 81, 50, 65, 59, 57, 73, 35, 85,\n",
       "       40, 57, 53, 23, 71, 43, 67, 63, 79, 63, 45, 64, 46, 51, 86, 24, 45,\n",
       "       69, 58, 31, 23, 26, 33, 22, 75, 59, 54, 23, 68, 81, 49, 26, 78, 64,\n",
       "       54, 22, 78, 70, 47, 39, 29, 30, 71, 72, 38, 24, 82, 81, 50, 64, 71,\n",
       "       43, 80, 79, 81, 22, 19, 64, 77, 78, 18, 55, 18, 89, 77, 50, 89, 37,\n",
       "       47, 62, 18, 20, 82, 43, 26, 49, 60, 43, 26, 43, 27, 51, 61, 19, 77,\n",
       "       77, 83, 32, 88, 46, 50, 23, 35, 72, 61, 87, 83, 61, 27, 64, 28, 62,\n",
       "       62, 24, 35, 28, 89, 68, 48, 19, 27, 65, 48, 30, 52, 63, 25, 43, 89,\n",
       "       35, 39, 61, 19, 22, 75, 85, 85, 56, 58, 51, 71, 79, 59, 83, 35, 73,\n",
       "       66, 51, 88, 88, 26, 32, 75, 35, 34, 25, 79, 44, 23, 56, 64, 24, 35,\n",
       "       50, 57, 19, 26, 37, 53, 80, 40, 36, 60, 85, 29, 31, 75, 31, 87, 70,\n",
       "       24, 54, 34, 86, 53, 46, 61, 32, 80, 68, 84, 70, 47, 55, 76, 19, 18,\n",
       "       63, 23, 53, 38, 43, 30, 43, 76, 44, 69, 82, 35, 24, 73, 41, 76, 54,\n",
       "       54, 69, 39, 27, 31, 21, 48, 44, 21, 86, 40, 40, 66, 23, 20, 19, 49,\n",
       "       60, 73, 88, 41, 20, 46, 77, 22, 71, 20, 34, 28, 70, 42, 71, 75, 23,\n",
       "       40, 80, 49, 72, 64, 68, 84, 29, 60, 29, 19, 52, 49, 75, 28, 18, 88,\n",
       "       48, 47, 46, 36, 89, 66, 40, 85, 69, 80, 78, 62, 67, 30, 83, 32, 18,\n",
       "       39, 25, 52, 22, 18, 61, 64, 46, 84, 37, 43, 22, 72, 73, 56, 65, 84,\n",
       "       64, 32, 25, 62, 19, 67, 53, 82, 59, 39, 30, 86, 31, 87, 27, 45, 21,\n",
       "       65, 73, 51, 26, 55, 39, 50, 86, 72, 75, 66, 67, 72, 87, 43, 87, 60,\n",
       "       89, 20, 69, 55, 87, 68, 64, 78, 65, 66, 77, 56, 73, 75, 59, 35, 65,\n",
       "       55, 69, 18, 84, 18, 38, 70, 66, 18, 45, 54, 32, 47, 28, 72, 87, 64,\n",
       "       86, 42, 28, 55, 31, 71, 52, 65, 47, 52, 84, 26, 77, 20, 23, 87, 65,\n",
       "       25, 72, 70, 43, 84, 34, 28, 40, 36, 20, 39, 58, 55, 26, 36, 75, 68,\n",
       "       66, 50, 18, 36, 40, 52, 38, 47, 78, 58, 49, 54, 50, 84, 32, 30, 29,\n",
       "       67, 40, 66, 83, 75, 75, 83, 44, 87, 20, 66, 86, 67, 20, 56, 84, 49,\n",
       "       49, 70, 55, 69, 74, 30, 60, 66, 46, 30, 57, 82, 79, 35, 86, 51, 86,\n",
       "       49, 60, 57, 38, 58, 87, 72, 35, 64, 53, 28, 51, 48, 43, 77, 37, 41,\n",
       "       25, 64, 73, 77, 54, 88, 78])"
      ]
     },
     "execution_count": 18,
     "metadata": {},
     "output_type": "execute_result"
    }
   ],
   "source": [
    "ages = np.random.randint(low=18, high=90, size=500)\n",
    "ages"
   ]
  },
  {
   "cell_type": "code",
   "execution_count": 19,
   "metadata": {},
   "outputs": [
    {
     "data": {
      "text/plain": [
       "ModeResult(mode=array([64]), count=array([13]))"
      ]
     },
     "execution_count": 19,
     "metadata": {},
     "output_type": "execute_result"
    }
   ],
   "source": [
    "from scipy import stats\n",
    "stats.mode(ages)"
   ]
  },
  {
   "cell_type": "code",
   "execution_count": null,
   "metadata": {},
   "outputs": [],
   "source": []
  }
 ],
 "metadata": {
  "kernelspec": {
   "display_name": "Python 3",
   "language": "python",
   "name": "python3"
  },
  "language_info": {
   "codemirror_mode": {
    "name": "ipython",
    "version": 3
   },
   "file_extension": ".py",
   "mimetype": "text/x-python",
   "name": "python",
   "nbconvert_exporter": "python",
   "pygments_lexer": "ipython3",
   "version": "3.8.5"
  }
 },
 "nbformat": 4,
 "nbformat_minor": 1
}
