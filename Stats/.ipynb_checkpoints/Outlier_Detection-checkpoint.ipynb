{
 "cells": [
  {
   "cell_type": "code",
   "execution_count": 3,
   "metadata": {},
   "outputs": [
    {
     "name": "stdout",
     "output_type": "stream",
     "text": [
      "mean of data 144.57142857142858\n",
      "stdv of data 148.2033903052126\n",
      "diff_from_mean [142.57142857 140.57142857 138.57142857  44.57142857  55.42857143\n",
      " 155.42857143 255.42857143]\n",
      "bool_idx [False False False  True  True False False]\n",
      "[100 200]\n",
      "0.0\n",
      "2500.0\n"
     ]
    }
   ],
   "source": [
    "\n",
    "import numpy as np\n",
    "\n",
    "def getoutliers(gdata,threshold):\n",
    "    \n",
    "    data=np.array(gdata)\n",
    "\n",
    "    mean=np.mean(data)\n",
    "    stdv=np.std(data)\n",
    "    print('mean of data',mean)\n",
    "    print('stdv of data',stdv)\n",
    "\n",
    "    diff_from_mean=abs(data-mean)\n",
    "    print('diff_from_mean',diff_from_mean)\n",
    "    \n",
    "    bool_idx = diff_from_mean < stdv*threshold\n",
    "    print('bool_idx',bool_idx)\n",
    "    \n",
    "    \n",
    "    selected=data[bool_idx]\n",
    "\n",
    "    mean=np.mean(selected)\n",
    "    median=np.median(selected)\n",
    "    var=np.var(selected)\n",
    "\n",
    "    return selected,abs(mean-median),var\n",
    "    \n",
    "    \n",
    "\n",
    "ListOfNumbers=[2,4,6,100,200,300,400]\n",
    "\n",
    "final,diff,variance=getoutliers(ListOfNumbers,0.9)\n",
    "\n",
    "print(final)\n",
    "print(diff)\n",
    "print(variance)"
   ]
  },
  {
   "cell_type": "code",
   "execution_count": null,
   "metadata": {},
   "outputs": [],
   "source": [
    "\n"
   ]
  },
  {
   "cell_type": "code",
   "execution_count": null,
   "metadata": {},
   "outputs": [],
   "source": []
  }
 ],
 "metadata": {
  "kernelspec": {
   "display_name": "Python 3",
   "language": "python",
   "name": "python3"
  },
  "language_info": {
   "codemirror_mode": {
    "name": "ipython",
    "version": 3
   },
   "file_extension": ".py",
   "mimetype": "text/x-python",
   "name": "python",
   "nbconvert_exporter": "python",
   "pygments_lexer": "ipython3",
   "version": "3.8.5"
  }
 },
 "nbformat": 4,
 "nbformat_minor": 4
}
