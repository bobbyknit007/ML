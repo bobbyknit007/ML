{
 "cells": [
  {
   "cell_type": "code",
   "execution_count": 1,
   "metadata": {},
   "outputs": [
    {
     "name": "stdout",
     "output_type": "stream",
     "text": [
      "74\n",
      "mean of data 16.33783783783784\n",
      "stdv of data 18.261077368994584\n",
      "[31  6 31 28 25 21 18 17 17 17 17 15 14 12 12 11 11 10 10  9  8  7  7  7\n",
      "  7  5  4  4  4  4  4  3  3  3  2  2  2  2  2  1  1  1  1  1  1  1  1  1\n",
      "  0  0  0  0  0  0  0 30 29 29 28 14  0]\n",
      "61\n",
      "4.032786885245901\n",
      "90.58908895458208\n"
     ]
    }
   ],
   "source": [
    "\n",
    "import numpy as np\n",
    "\n",
    "def getoutliers(gdata,threshold):\n",
    "    \n",
    "    data=np.array(gdata)\n",
    "\n",
    "    mean=np.mean(data)\n",
    "    stdv=np.std(data)\n",
    "    print('mean of data',mean)\n",
    "    print('stdv of data',stdv)\n",
    "\n",
    "    diff_from_mean=abs(data-mean)\n",
    "  #  print('diff_from_mean',diff_from_mean)\n",
    "    \n",
    "    bool_idx = diff_from_mean < stdv*threshold\n",
    "  #  print('bool_idx',bool_idx)\n",
    "    \n",
    "    \n",
    "    selected=data[bool_idx]\n",
    "\n",
    "    mean=np.mean(selected)\n",
    "    median=np.median(selected)\n",
    "    var=np.var(selected)\n",
    "\n",
    "    return selected,(mean-median),var\n",
    "    \n",
    "    \n",
    "\n",
    "\n",
    "ListOfNumbers=[60,31,6,60,31,28,25,21,18,17,17,17,17,15,14,12,12,11,11,10,10,9,8,7,7,7,7,5,4,4,4,4,4,3,3,3,2,2,2,2,2,1,1,1,1,1,1,1,1,1,0,0,0,0,0,0,0,57,57,56,51,50,48,47,47,47,42,36,30,29,29,28,14,0]\n",
    "#ListOfNumbers=[60,31,23,6,60,31,28,28,25,22,21,18,17,17,17,17,15,14,12,12,11,11,10,10,10,10,10,10,10,10,9,9,8,8,7,7,7,7,5,4,4,4,4,4,3,3,3,2,2,2,2,2,1,1,1,1,1,1,1,1,1,0,0,0,0,0,0,0,117,114,107,107,103,102,95,90,89,72,72,72,71,71,70,70,70,70,70,70,70,70,69,69,69,69,69,69,69,68,68,67,67,67,67,67,67,67,67,67,66,66,65,69,64,63,63,63,63,62,62,61,61,61,61,61,61,60,60,61,60,60,59,59,59,59,59,59,59,59,58,58,58,58,58,58,58,57,57,57,57,57,56,56,56,56,55,55,55,55,54,54,54,54,53,53,52,52,52,52,52,52,51,51,51,51,51,51,50,50,50,50,50,50,49,48,48,48,48,47,47,47,47,46,45,68,48,42,40,36,36,32,30,29,29,28,14,10,3,0]\n",
    "print(len(ListOfNumbers))\n",
    "#[2,4,6,100,200,300,400]\n",
    "#[0, 1, 1, 2, 3, 5, 8, 13, 21, 34, 55, 89, 144, 233, 377]\n",
    "#[1, 3, 5, 7, 9, 11, 13, 15, 17, 19, 21, 23, 25, 27, 29, 31, 33, 35, 37, 39, 41, 43, 45, 47, 49, 51, 53, 55, 57, 59]\n",
    "#[2,4,6,100,200,300,400]\n",
    "final,diff,variance=getoutliers(ListOfNumbers,1)\n",
    "print(final)\n",
    "print(len(final))\n",
    "print(diff)\n",
    "print(variance)\n"
   ]
  },
  {
   "cell_type": "code",
   "execution_count": null,
   "metadata": {},
   "outputs": [],
   "source": [
    "\n"
   ]
  },
  {
   "cell_type": "code",
   "execution_count": null,
   "metadata": {},
   "outputs": [],
   "source": []
  }
 ],
 "metadata": {
  "kernelspec": {
   "display_name": "Python 3 (ipykernel)",
   "language": "python",
   "name": "python3"
  },
  "language_info": {
   "codemirror_mode": {
    "name": "ipython",
    "version": 3
   },
   "file_extension": ".py",
   "mimetype": "text/x-python",
   "name": "python",
   "nbconvert_exporter": "python",
   "pygments_lexer": "ipython3",
   "version": "3.11.7"
  }
 },
 "nbformat": 4,
 "nbformat_minor": 4
}
